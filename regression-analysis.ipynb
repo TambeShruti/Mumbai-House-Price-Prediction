{
 "cells": [
  {
   "cell_type": "markdown",
   "id": "e3a67422",
   "metadata": {
    "papermill": {
     "duration": 0.022415,
     "end_time": "2023-08-15T14:49:28.491464",
     "exception": false,
     "start_time": "2023-08-15T14:49:28.469049",
     "status": "completed"
    },
    "tags": []
   },
   "source": [
    "<h1>Mumbai Housing Price Prediction"
   ]
  },
  {
   "cell_type": "code",
   "execution_count": 1,
   "id": "593f9707",
   "metadata": {
    "execution": {
     "iopub.execute_input": "2023-08-15T14:49:28.539428Z",
     "iopub.status.busy": "2023-08-15T14:49:28.538704Z",
     "iopub.status.idle": "2023-08-15T14:49:32.690992Z",
     "shell.execute_reply": "2023-08-15T14:49:32.689925Z"
    },
    "papermill": {
     "duration": 4.178974,
     "end_time": "2023-08-15T14:49:32.693878",
     "exception": false,
     "start_time": "2023-08-15T14:49:28.514904",
     "status": "completed"
    },
    "tags": []
   },
   "outputs": [
    {
     "name": "stderr",
     "output_type": "stream",
     "text": [
      "/opt/conda/lib/python3.10/site-packages/scipy/__init__.py:146: UserWarning: A NumPy version >=1.16.5 and <1.23.0 is required for this version of SciPy (detected version 1.23.5\n",
      "  warnings.warn(f\"A NumPy version >={np_minversion} and <{np_maxversion}\"\n"
     ]
    }
   ],
   "source": [
    "import pandas as pd\n",
    "import numpy as np\n",
    "import seaborn as sns\n",
    "import statsmodels.api as sm\n",
    "from scipy.stats import f_oneway\n",
    "import scipy.stats \n",
    "from matplotlib import pyplot as plt\n",
    "from sklearn.preprocessing import StandardScaler\n",
    "from sklearn.model_selection import train_test_split\n",
    "from sklearn.linear_model import LinearRegression\n",
    "from sklearn.metrics import mean_squared_error\n",
    "from sklearn.model_selection import ShuffleSplit\n",
    "from sklearn.model_selection import cross_val_score\n",
    "from sklearn.model_selection import GridSearchCV\n",
    "from sklearn.linear_model import Lasso\n",
    "from sklearn.tree import DecisionTreeRegressor\n",
    "from sklearn import metrics\n",
    "from sklearn.metrics import r2_score\n",
    "%matplotlib inline\n",
    "import matplotlib \n",
    "matplotlib.rcParams[\"figure.figsize\"] = (20,10)\n",
    "from sklearn.preprocessing import LabelEncoder"
   ]
  },
  {
   "cell_type": "code",
   "execution_count": 2,
   "id": "ba57c2c3",
   "metadata": {
    "execution": {
     "iopub.execute_input": "2023-08-15T14:49:32.741346Z",
     "iopub.status.busy": "2023-08-15T14:49:32.739779Z",
     "iopub.status.idle": "2023-08-15T14:49:33.016474Z",
     "shell.execute_reply": "2023-08-15T14:49:33.015069Z"
    },
    "papermill": {
     "duration": 0.303013,
     "end_time": "2023-08-15T14:49:33.019451",
     "exception": false,
     "start_time": "2023-08-15T14:49:32.716438",
     "status": "completed"
    },
    "tags": []
   },
   "outputs": [
    {
     "data": {
      "text/html": [
       "<div>\n",
       "<style scoped>\n",
       "    .dataframe tbody tr th:only-of-type {\n",
       "        vertical-align: middle;\n",
       "    }\n",
       "\n",
       "    .dataframe tbody tr th {\n",
       "        vertical-align: top;\n",
       "    }\n",
       "\n",
       "    .dataframe thead th {\n",
       "        text-align: right;\n",
       "    }\n",
       "</style>\n",
       "<table border=\"1\" class=\"dataframe\">\n",
       "  <thead>\n",
       "    <tr style=\"text-align: right;\">\n",
       "      <th></th>\n",
       "      <th>bhk</th>\n",
       "      <th>type</th>\n",
       "      <th>locality</th>\n",
       "      <th>area</th>\n",
       "      <th>price</th>\n",
       "      <th>price_unit</th>\n",
       "      <th>region</th>\n",
       "      <th>status</th>\n",
       "      <th>age</th>\n",
       "    </tr>\n",
       "  </thead>\n",
       "  <tbody>\n",
       "    <tr>\n",
       "      <th>0</th>\n",
       "      <td>3</td>\n",
       "      <td>Apartment</td>\n",
       "      <td>Lak And Hanware The Residency Tower</td>\n",
       "      <td>685</td>\n",
       "      <td>2.50</td>\n",
       "      <td>Cr</td>\n",
       "      <td>Andheri West</td>\n",
       "      <td>Ready to move</td>\n",
       "      <td>New</td>\n",
       "    </tr>\n",
       "    <tr>\n",
       "      <th>1</th>\n",
       "      <td>2</td>\n",
       "      <td>Apartment</td>\n",
       "      <td>Radheya Sai Enclave Building No 2</td>\n",
       "      <td>640</td>\n",
       "      <td>52.51</td>\n",
       "      <td>L</td>\n",
       "      <td>Naigaon East</td>\n",
       "      <td>Under Construction</td>\n",
       "      <td>New</td>\n",
       "    </tr>\n",
       "    <tr>\n",
       "      <th>2</th>\n",
       "      <td>2</td>\n",
       "      <td>Apartment</td>\n",
       "      <td>Romell Serene</td>\n",
       "      <td>610</td>\n",
       "      <td>1.73</td>\n",
       "      <td>Cr</td>\n",
       "      <td>Borivali West</td>\n",
       "      <td>Under Construction</td>\n",
       "      <td>New</td>\n",
       "    </tr>\n",
       "    <tr>\n",
       "      <th>3</th>\n",
       "      <td>2</td>\n",
       "      <td>Apartment</td>\n",
       "      <td>Soundlines Codename Urban Rainforest</td>\n",
       "      <td>876</td>\n",
       "      <td>59.98</td>\n",
       "      <td>L</td>\n",
       "      <td>Panvel</td>\n",
       "      <td>Under Construction</td>\n",
       "      <td>New</td>\n",
       "    </tr>\n",
       "    <tr>\n",
       "      <th>4</th>\n",
       "      <td>2</td>\n",
       "      <td>Apartment</td>\n",
       "      <td>Origin Oriana</td>\n",
       "      <td>659</td>\n",
       "      <td>94.11</td>\n",
       "      <td>L</td>\n",
       "      <td>Mira Road East</td>\n",
       "      <td>Under Construction</td>\n",
       "      <td>New</td>\n",
       "    </tr>\n",
       "  </tbody>\n",
       "</table>\n",
       "</div>"
      ],
      "text/plain": [
       "   bhk       type                              locality  area  price  \\\n",
       "0    3  Apartment   Lak And Hanware The Residency Tower   685   2.50   \n",
       "1    2  Apartment     Radheya Sai Enclave Building No 2   640  52.51   \n",
       "2    2  Apartment                         Romell Serene   610   1.73   \n",
       "3    2  Apartment  Soundlines Codename Urban Rainforest   876  59.98   \n",
       "4    2  Apartment                         Origin Oriana   659  94.11   \n",
       "\n",
       "  price_unit          region              status  age  \n",
       "0         Cr    Andheri West       Ready to move  New  \n",
       "1          L    Naigaon East  Under Construction  New  \n",
       "2         Cr   Borivali West  Under Construction  New  \n",
       "3          L          Panvel  Under Construction  New  \n",
       "4          L  Mira Road East  Under Construction  New  "
      ]
     },
     "execution_count": 2,
     "metadata": {},
     "output_type": "execute_result"
    }
   ],
   "source": [
    "df1 = pd.read_csv(\"/kaggle/input/mumbai-house-prices/Mumbai House Prices.csv\")\n",
    "\n",
    "df1.head()"
   ]
  },
  {
   "cell_type": "code",
   "execution_count": 3,
   "id": "8a9ca8ab",
   "metadata": {
    "execution": {
     "iopub.execute_input": "2023-08-15T14:49:33.068709Z",
     "iopub.status.busy": "2023-08-15T14:49:33.067993Z",
     "iopub.status.idle": "2023-08-15T14:49:33.074034Z",
     "shell.execute_reply": "2023-08-15T14:49:33.073260Z"
    },
    "papermill": {
     "duration": 0.033362,
     "end_time": "2023-08-15T14:49:33.076228",
     "exception": false,
     "start_time": "2023-08-15T14:49:33.042866",
     "status": "completed"
    },
    "tags": []
   },
   "outputs": [
    {
     "data": {
      "text/plain": [
       "(76038, 9)"
      ]
     },
     "execution_count": 3,
     "metadata": {},
     "output_type": "execute_result"
    }
   ],
   "source": [
    "df1.shape"
   ]
  },
  {
   "cell_type": "markdown",
   "id": "5800d213",
   "metadata": {
    "papermill": {
     "duration": 0.022272,
     "end_time": "2023-08-15T14:49:33.121341",
     "exception": false,
     "start_time": "2023-08-15T14:49:33.099069",
     "status": "completed"
    },
    "tags": []
   },
   "source": [
    "<h2> Understanding the dataset"
   ]
  },
  {
   "cell_type": "code",
   "execution_count": 4,
   "id": "570fd17e",
   "metadata": {
    "execution": {
     "iopub.execute_input": "2023-08-15T14:49:33.169933Z",
     "iopub.status.busy": "2023-08-15T14:49:33.169084Z",
     "iopub.status.idle": "2023-08-15T14:49:33.206869Z",
     "shell.execute_reply": "2023-08-15T14:49:33.205542Z"
    },
    "papermill": {
     "duration": 0.065503,
     "end_time": "2023-08-15T14:49:33.209619",
     "exception": false,
     "start_time": "2023-08-15T14:49:33.144116",
     "status": "completed"
    },
    "tags": []
   },
   "outputs": [
    {
     "data": {
      "text/html": [
       "<div>\n",
       "<style scoped>\n",
       "    .dataframe tbody tr th:only-of-type {\n",
       "        vertical-align: middle;\n",
       "    }\n",
       "\n",
       "    .dataframe tbody tr th {\n",
       "        vertical-align: top;\n",
       "    }\n",
       "\n",
       "    .dataframe thead th {\n",
       "        text-align: right;\n",
       "    }\n",
       "</style>\n",
       "<table border=\"1\" class=\"dataframe\">\n",
       "  <thead>\n",
       "    <tr style=\"text-align: right;\">\n",
       "      <th></th>\n",
       "      <th>bhk</th>\n",
       "      <th>area</th>\n",
       "      <th>price</th>\n",
       "    </tr>\n",
       "  </thead>\n",
       "  <tbody>\n",
       "    <tr>\n",
       "      <th>count</th>\n",
       "      <td>76038.000000</td>\n",
       "      <td>76038.000000</td>\n",
       "      <td>76038.00000</td>\n",
       "    </tr>\n",
       "    <tr>\n",
       "      <th>mean</th>\n",
       "      <td>2.015111</td>\n",
       "      <td>1024.536850</td>\n",
       "      <td>29.38227</td>\n",
       "    </tr>\n",
       "    <tr>\n",
       "      <th>std</th>\n",
       "      <td>0.922754</td>\n",
       "      <td>670.276165</td>\n",
       "      <td>32.90345</td>\n",
       "    </tr>\n",
       "    <tr>\n",
       "      <th>min</th>\n",
       "      <td>1.000000</td>\n",
       "      <td>127.000000</td>\n",
       "      <td>1.00000</td>\n",
       "    </tr>\n",
       "    <tr>\n",
       "      <th>25%</th>\n",
       "      <td>1.000000</td>\n",
       "      <td>640.000000</td>\n",
       "      <td>1.75000</td>\n",
       "    </tr>\n",
       "    <tr>\n",
       "      <th>50%</th>\n",
       "      <td>2.000000</td>\n",
       "      <td>872.000000</td>\n",
       "      <td>5.50000</td>\n",
       "    </tr>\n",
       "    <tr>\n",
       "      <th>75%</th>\n",
       "      <td>3.000000</td>\n",
       "      <td>1179.000000</td>\n",
       "      <td>59.00000</td>\n",
       "    </tr>\n",
       "    <tr>\n",
       "      <th>max</th>\n",
       "      <td>10.000000</td>\n",
       "      <td>16000.000000</td>\n",
       "      <td>99.99000</td>\n",
       "    </tr>\n",
       "  </tbody>\n",
       "</table>\n",
       "</div>"
      ],
      "text/plain": [
       "                bhk          area        price\n",
       "count  76038.000000  76038.000000  76038.00000\n",
       "mean       2.015111   1024.536850     29.38227\n",
       "std        0.922754    670.276165     32.90345\n",
       "min        1.000000    127.000000      1.00000\n",
       "25%        1.000000    640.000000      1.75000\n",
       "50%        2.000000    872.000000      5.50000\n",
       "75%        3.000000   1179.000000     59.00000\n",
       "max       10.000000  16000.000000     99.99000"
      ]
     },
     "execution_count": 4,
     "metadata": {},
     "output_type": "execute_result"
    }
   ],
   "source": [
    "df1.describe()"
   ]
  },
  {
   "cell_type": "code",
   "execution_count": 5,
   "id": "62c1a974",
   "metadata": {
    "execution": {
     "iopub.execute_input": "2023-08-15T14:49:33.258103Z",
     "iopub.status.busy": "2023-08-15T14:49:33.257671Z",
     "iopub.status.idle": "2023-08-15T14:49:33.282452Z",
     "shell.execute_reply": "2023-08-15T14:49:33.281269Z"
    },
    "papermill": {
     "duration": 0.052,
     "end_time": "2023-08-15T14:49:33.284779",
     "exception": false,
     "start_time": "2023-08-15T14:49:33.232779",
     "status": "completed"
    },
    "tags": []
   },
   "outputs": [
    {
     "data": {
      "text/plain": [
       "Thane West         14868\n",
       "Mira Road East      9902\n",
       "Dombivali           3041\n",
       "Kandivali East      2568\n",
       "Kharghar            2362\n",
       "                   ...  \n",
       "Police Colony          1\n",
       "GTB Nagar              1\n",
       "Bandra                 1\n",
       "Sector 14 Vashi        1\n",
       "Goregaon               1\n",
       "Name: region, Length: 228, dtype: int64"
      ]
     },
     "execution_count": 5,
     "metadata": {},
     "output_type": "execute_result"
    }
   ],
   "source": [
    "df1['region'].value_counts()"
   ]
  },
  {
   "cell_type": "code",
   "execution_count": 6,
   "id": "66f70f41",
   "metadata": {
    "execution": {
     "iopub.execute_input": "2023-08-15T14:49:33.336709Z",
     "iopub.status.busy": "2023-08-15T14:49:33.336269Z",
     "iopub.status.idle": "2023-08-15T14:49:33.357312Z",
     "shell.execute_reply": "2023-08-15T14:49:33.355546Z"
    },
    "papermill": {
     "duration": 0.05223,
     "end_time": "2023-08-15T14:49:33.359930",
     "exception": false,
     "start_time": "2023-08-15T14:49:33.307700",
     "status": "completed"
    },
    "tags": []
   },
   "outputs": [
    {
     "data": {
      "text/plain": [
       "Apartment            74854\n",
       "Studio Apartment       882\n",
       "Villa                  226\n",
       "Independent House       73\n",
       "Penthouse                3\n",
       "Name: type, dtype: int64"
      ]
     },
     "execution_count": 6,
     "metadata": {},
     "output_type": "execute_result"
    }
   ],
   "source": [
    "df1['type'].value_counts()"
   ]
  },
  {
   "cell_type": "code",
   "execution_count": 7,
   "id": "91038c8f",
   "metadata": {
    "execution": {
     "iopub.execute_input": "2023-08-15T14:49:33.410989Z",
     "iopub.status.busy": "2023-08-15T14:49:33.410543Z",
     "iopub.status.idle": "2023-08-15T14:49:33.432495Z",
     "shell.execute_reply": "2023-08-15T14:49:33.430502Z"
    },
    "papermill": {
     "duration": 0.051201,
     "end_time": "2023-08-15T14:49:33.435171",
     "exception": false,
     "start_time": "2023-08-15T14:49:33.383970",
     "status": "completed"
    },
    "tags": []
   },
   "outputs": [
    {
     "data": {
      "text/plain": [
       "New        38072\n",
       "Resale     23357\n",
       "Unknown    14609\n",
       "Name: age, dtype: int64"
      ]
     },
     "execution_count": 7,
     "metadata": {},
     "output_type": "execute_result"
    }
   ],
   "source": [
    "df1['age'].value_counts()"
   ]
  },
  {
   "cell_type": "markdown",
   "id": "d0c1b7a2",
   "metadata": {
    "papermill": {
     "duration": 0.022955,
     "end_time": "2023-08-15T14:49:33.483375",
     "exception": false,
     "start_time": "2023-08-15T14:49:33.460420",
     "status": "completed"
    },
    "tags": []
   },
   "source": [
    "<h2>Data Preprocessing"
   ]
  },
  {
   "cell_type": "code",
   "execution_count": 8,
   "id": "82942b18",
   "metadata": {
    "execution": {
     "iopub.execute_input": "2023-08-15T14:49:33.533399Z",
     "iopub.status.busy": "2023-08-15T14:49:33.532518Z",
     "iopub.status.idle": "2023-08-15T14:49:33.692542Z",
     "shell.execute_reply": "2023-08-15T14:49:33.691314Z"
    },
    "papermill": {
     "duration": 0.188541,
     "end_time": "2023-08-15T14:49:33.695431",
     "exception": false,
     "start_time": "2023-08-15T14:49:33.506890",
     "status": "completed"
    },
    "tags": []
   },
   "outputs": [
    {
     "data": {
      "text/plain": [
       "bhk           0\n",
       "type          0\n",
       "locality      0\n",
       "area          0\n",
       "price         0\n",
       "price_unit    0\n",
       "region        0\n",
       "status        0\n",
       "age           0\n",
       "dtype: int64"
      ]
     },
     "execution_count": 8,
     "metadata": {},
     "output_type": "execute_result"
    }
   ],
   "source": [
    "df1.isnull().sum()"
   ]
  },
  {
   "cell_type": "markdown",
   "id": "f1e39c97",
   "metadata": {
    "papermill": {
     "duration": 0.023077,
     "end_time": "2023-08-15T14:49:33.742892",
     "exception": false,
     "start_time": "2023-08-15T14:49:33.719815",
     "status": "completed"
    },
    "tags": []
   },
   "source": [
    "No missing data phew!"
   ]
  },
  {
   "cell_type": "code",
   "execution_count": 9,
   "id": "62dd6807",
   "metadata": {
    "execution": {
     "iopub.execute_input": "2023-08-15T14:49:33.792727Z",
     "iopub.status.busy": "2023-08-15T14:49:33.792227Z",
     "iopub.status.idle": "2023-08-15T14:49:33.810007Z",
     "shell.execute_reply": "2023-08-15T14:49:33.809201Z"
    },
    "papermill": {
     "duration": 0.045284,
     "end_time": "2023-08-15T14:49:33.812242",
     "exception": false,
     "start_time": "2023-08-15T14:49:33.766958",
     "status": "completed"
    },
    "tags": []
   },
   "outputs": [
    {
     "data": {
      "text/plain": [
       "array(['Ready to move', 'Under Construction'], dtype=object)"
      ]
     },
     "execution_count": 9,
     "metadata": {},
     "output_type": "execute_result"
    }
   ],
   "source": [
    "df1['status'].unique()"
   ]
  },
  {
   "cell_type": "markdown",
   "id": "0d816129",
   "metadata": {
    "papermill": {
     "duration": 0.024072,
     "end_time": "2023-08-15T14:49:33.860635",
     "exception": false,
     "start_time": "2023-08-15T14:49:33.836563",
     "status": "completed"
    },
    "tags": []
   },
   "source": [
    "Dropping features that are not required to make our model predictions: <b>age, locality and status</b> "
   ]
  },
  {
   "cell_type": "code",
   "execution_count": 10,
   "id": "41c1169f",
   "metadata": {
    "execution": {
     "iopub.execute_input": "2023-08-15T14:49:33.910351Z",
     "iopub.status.busy": "2023-08-15T14:49:33.909546Z",
     "iopub.status.idle": "2023-08-15T14:49:33.932382Z",
     "shell.execute_reply": "2023-08-15T14:49:33.931247Z"
    },
    "papermill": {
     "duration": 0.050812,
     "end_time": "2023-08-15T14:49:33.934824",
     "exception": false,
     "start_time": "2023-08-15T14:49:33.884012",
     "status": "completed"
    },
    "tags": []
   },
   "outputs": [
    {
     "data": {
      "text/html": [
       "<div>\n",
       "<style scoped>\n",
       "    .dataframe tbody tr th:only-of-type {\n",
       "        vertical-align: middle;\n",
       "    }\n",
       "\n",
       "    .dataframe tbody tr th {\n",
       "        vertical-align: top;\n",
       "    }\n",
       "\n",
       "    .dataframe thead th {\n",
       "        text-align: right;\n",
       "    }\n",
       "</style>\n",
       "<table border=\"1\" class=\"dataframe\">\n",
       "  <thead>\n",
       "    <tr style=\"text-align: right;\">\n",
       "      <th></th>\n",
       "      <th>bhk</th>\n",
       "      <th>type</th>\n",
       "      <th>area</th>\n",
       "      <th>price</th>\n",
       "      <th>price_unit</th>\n",
       "      <th>region</th>\n",
       "    </tr>\n",
       "  </thead>\n",
       "  <tbody>\n",
       "    <tr>\n",
       "      <th>0</th>\n",
       "      <td>3</td>\n",
       "      <td>Apartment</td>\n",
       "      <td>685</td>\n",
       "      <td>2.50</td>\n",
       "      <td>Cr</td>\n",
       "      <td>Andheri West</td>\n",
       "    </tr>\n",
       "    <tr>\n",
       "      <th>1</th>\n",
       "      <td>2</td>\n",
       "      <td>Apartment</td>\n",
       "      <td>640</td>\n",
       "      <td>52.51</td>\n",
       "      <td>L</td>\n",
       "      <td>Naigaon East</td>\n",
       "    </tr>\n",
       "    <tr>\n",
       "      <th>2</th>\n",
       "      <td>2</td>\n",
       "      <td>Apartment</td>\n",
       "      <td>610</td>\n",
       "      <td>1.73</td>\n",
       "      <td>Cr</td>\n",
       "      <td>Borivali West</td>\n",
       "    </tr>\n",
       "    <tr>\n",
       "      <th>3</th>\n",
       "      <td>2</td>\n",
       "      <td>Apartment</td>\n",
       "      <td>876</td>\n",
       "      <td>59.98</td>\n",
       "      <td>L</td>\n",
       "      <td>Panvel</td>\n",
       "    </tr>\n",
       "    <tr>\n",
       "      <th>4</th>\n",
       "      <td>2</td>\n",
       "      <td>Apartment</td>\n",
       "      <td>659</td>\n",
       "      <td>94.11</td>\n",
       "      <td>L</td>\n",
       "      <td>Mira Road East</td>\n",
       "    </tr>\n",
       "  </tbody>\n",
       "</table>\n",
       "</div>"
      ],
      "text/plain": [
       "   bhk       type  area  price price_unit          region\n",
       "0    3  Apartment   685   2.50         Cr    Andheri West\n",
       "1    2  Apartment   640  52.51          L    Naigaon East\n",
       "2    2  Apartment   610   1.73         Cr   Borivali West\n",
       "3    2  Apartment   876  59.98          L          Panvel\n",
       "4    2  Apartment   659  94.11          L  Mira Road East"
      ]
     },
     "execution_count": 10,
     "metadata": {},
     "output_type": "execute_result"
    }
   ],
   "source": [
    "df2 = df1.drop(['age', 'locality', 'status'], axis=1)\n",
    "df2.head()"
   ]
  },
  {
   "cell_type": "code",
   "execution_count": 11,
   "id": "cef38f94",
   "metadata": {
    "execution": {
     "iopub.execute_input": "2023-08-15T14:49:33.985905Z",
     "iopub.status.busy": "2023-08-15T14:49:33.984661Z",
     "iopub.status.idle": "2023-08-15T14:49:33.992358Z",
     "shell.execute_reply": "2023-08-15T14:49:33.991099Z"
    },
    "papermill": {
     "duration": 0.035949,
     "end_time": "2023-08-15T14:49:33.994598",
     "exception": false,
     "start_time": "2023-08-15T14:49:33.958649",
     "status": "completed"
    },
    "tags": []
   },
   "outputs": [
    {
     "data": {
      "text/plain": [
       "Index(['bhk', 'type', 'area', 'price', 'price_unit', 'region'], dtype='object')"
      ]
     },
     "execution_count": 11,
     "metadata": {},
     "output_type": "execute_result"
    }
   ],
   "source": [
    "df2.columns"
   ]
  },
  {
   "cell_type": "code",
   "execution_count": 12,
   "id": "b77c668f",
   "metadata": {
    "execution": {
     "iopub.execute_input": "2023-08-15T14:49:34.045913Z",
     "iopub.status.busy": "2023-08-15T14:49:34.045293Z",
     "iopub.status.idle": "2023-08-15T14:49:34.055333Z",
     "shell.execute_reply": "2023-08-15T14:49:34.054133Z"
    },
    "papermill": {
     "duration": 0.038697,
     "end_time": "2023-08-15T14:49:34.057812",
     "exception": false,
     "start_time": "2023-08-15T14:49:34.019115",
     "status": "completed"
    },
    "tags": []
   },
   "outputs": [
    {
     "data": {
      "text/plain": [
       "array([ 3,  2,  5,  1,  4,  6,  9,  8, 10,  7])"
      ]
     },
     "execution_count": 12,
     "metadata": {},
     "output_type": "execute_result"
    }
   ],
   "source": [
    "df2['bhk'].unique()"
   ]
  },
  {
   "cell_type": "markdown",
   "id": "370d6d50",
   "metadata": {
    "papermill": {
     "duration": 0.023852,
     "end_time": "2023-08-15T14:49:34.105588",
     "exception": false,
     "start_time": "2023-08-15T14:49:34.081736",
     "status": "completed"
    },
    "tags": []
   },
   "source": [
    "<h3> Response Variable"
   ]
  },
  {
   "cell_type": "code",
   "execution_count": 13,
   "id": "2001921a",
   "metadata": {
    "execution": {
     "iopub.execute_input": "2023-08-15T14:49:34.156097Z",
     "iopub.status.busy": "2023-08-15T14:49:34.155352Z",
     "iopub.status.idle": "2023-08-15T14:49:35.776868Z",
     "shell.execute_reply": "2023-08-15T14:49:35.775911Z"
    },
    "papermill": {
     "duration": 1.649497,
     "end_time": "2023-08-15T14:49:35.779218",
     "exception": false,
     "start_time": "2023-08-15T14:49:34.129721",
     "status": "completed"
    },
    "tags": []
   },
   "outputs": [
    {
     "data": {
      "text/html": [
       "<div>\n",
       "<style scoped>\n",
       "    .dataframe tbody tr th:only-of-type {\n",
       "        vertical-align: middle;\n",
       "    }\n",
       "\n",
       "    .dataframe tbody tr th {\n",
       "        vertical-align: top;\n",
       "    }\n",
       "\n",
       "    .dataframe thead th {\n",
       "        text-align: right;\n",
       "    }\n",
       "</style>\n",
       "<table border=\"1\" class=\"dataframe\">\n",
       "  <thead>\n",
       "    <tr style=\"text-align: right;\">\n",
       "      <th></th>\n",
       "      <th>bhk</th>\n",
       "      <th>type</th>\n",
       "      <th>area</th>\n",
       "      <th>region</th>\n",
       "      <th>price_lakhs</th>\n",
       "    </tr>\n",
       "  </thead>\n",
       "  <tbody>\n",
       "    <tr>\n",
       "      <th>0</th>\n",
       "      <td>3</td>\n",
       "      <td>Apartment</td>\n",
       "      <td>685</td>\n",
       "      <td>Andheri West</td>\n",
       "      <td>250.00</td>\n",
       "    </tr>\n",
       "    <tr>\n",
       "      <th>1</th>\n",
       "      <td>2</td>\n",
       "      <td>Apartment</td>\n",
       "      <td>640</td>\n",
       "      <td>Naigaon East</td>\n",
       "      <td>52.51</td>\n",
       "    </tr>\n",
       "    <tr>\n",
       "      <th>2</th>\n",
       "      <td>2</td>\n",
       "      <td>Apartment</td>\n",
       "      <td>610</td>\n",
       "      <td>Borivali West</td>\n",
       "      <td>173.00</td>\n",
       "    </tr>\n",
       "    <tr>\n",
       "      <th>3</th>\n",
       "      <td>2</td>\n",
       "      <td>Apartment</td>\n",
       "      <td>876</td>\n",
       "      <td>Panvel</td>\n",
       "      <td>59.98</td>\n",
       "    </tr>\n",
       "    <tr>\n",
       "      <th>4</th>\n",
       "      <td>2</td>\n",
       "      <td>Apartment</td>\n",
       "      <td>659</td>\n",
       "      <td>Mira Road East</td>\n",
       "      <td>94.11</td>\n",
       "    </tr>\n",
       "  </tbody>\n",
       "</table>\n",
       "</div>"
      ],
      "text/plain": [
       "   bhk       type  area          region  price_lakhs\n",
       "0    3  Apartment   685    Andheri West       250.00\n",
       "1    2  Apartment   640    Naigaon East        52.51\n",
       "2    2  Apartment   610   Borivali West       173.00\n",
       "3    2  Apartment   876          Panvel        59.98\n",
       "4    2  Apartment   659  Mira Road East        94.11"
      ]
     },
     "execution_count": 13,
     "metadata": {},
     "output_type": "execute_result"
    }
   ],
   "source": [
    "conversion_factor_crore_to_lakh = 100  # 1 Crore = 100 Lakhs\n",
    "\n",
    "def convert_to_lakhs(row):\n",
    "    if row[\"price_unit\"] == \"L\":\n",
    "        return row[\"price\"]\n",
    "    elif row[\"price_unit\"] == \"Cr\":\n",
    "        return row[\"price\"] * conversion_factor_crore_to_lakh\n",
    "\n",
    "df2[\"price_lakhs\"] = df2.apply(convert_to_lakhs, axis=1)\n",
    "\n",
    "df3 = df2.drop(['price', 'price_unit'], axis=1)\n",
    "df3.head()"
   ]
  },
  {
   "cell_type": "markdown",
   "id": "6d4c4a2b",
   "metadata": {
    "papermill": {
     "duration": 0.02514,
     "end_time": "2023-08-15T14:49:35.829850",
     "exception": false,
     "start_time": "2023-08-15T14:49:35.804710",
     "status": "completed"
    },
    "tags": []
   },
   "source": [
    "<h3>Log Transform"
   ]
  },
  {
   "cell_type": "code",
   "execution_count": 14,
   "id": "3b84bd14",
   "metadata": {
    "execution": {
     "iopub.execute_input": "2023-08-15T14:49:35.883186Z",
     "iopub.status.busy": "2023-08-15T14:49:35.882533Z",
     "iopub.status.idle": "2023-08-15T14:49:36.880259Z",
     "shell.execute_reply": "2023-08-15T14:49:36.879002Z"
    },
    "papermill": {
     "duration": 1.02834,
     "end_time": "2023-08-15T14:49:36.883146",
     "exception": false,
     "start_time": "2023-08-15T14:49:35.854806",
     "status": "completed"
    },
    "tags": []
   },
   "outputs": [
    {
     "name": "stderr",
     "output_type": "stream",
     "text": [
      "/tmp/ipykernel_20/259957056.py:1: UserWarning: \n",
      "\n",
      "`distplot` is a deprecated function and will be removed in seaborn v0.14.0.\n",
      "\n",
      "Please adapt your code to use either `displot` (a figure-level function with\n",
      "similar flexibility) or `histplot` (an axes-level function for histograms).\n",
      "\n",
      "For a guide to updating your code to use the new functions, please see\n",
      "https://gist.github.com/mwaskom/de44147ed2974457ad6372750bbe5751\n",
      "\n",
      "  ax = sns.distplot(df3['price_lakhs'])\n"
     ]
    },
    {
     "data": {
      "image/png": "[encoded data removed]",
      "text/plain": [
       "<Figure size 2000x1000 with 1 Axes>"
      ]
     },
     "metadata": {},
     "output_type": "display_data"
    }
   ],
   "source": [
    "ax = sns.distplot(df3['price_lakhs'])"
   ]
  },
  {
   "cell_type": "code",
   "execution_count": 15,
   "id": "43891fed",
   "metadata": {
    "execution": {
     "iopub.execute_input": "2023-08-15T14:49:36.935105Z",
     "iopub.status.busy": "2023-08-15T14:49:36.934717Z",
     "iopub.status.idle": "2023-08-15T14:49:36.940686Z",
     "shell.execute_reply": "2023-08-15T14:49:36.939496Z"
    },
    "papermill": {
     "duration": 0.035042,
     "end_time": "2023-08-15T14:49:36.943197",
     "exception": false,
     "start_time": "2023-08-15T14:49:36.908155",
     "status": "completed"
    },
    "tags": []
   },
   "outputs": [],
   "source": [
    "log_transform_y =  np.log(df3['price_lakhs'])"
   ]
  },
  {
   "cell_type": "code",
   "execution_count": 16,
   "id": "b7b3de42",
   "metadata": {
    "execution": {
     "iopub.execute_input": "2023-08-15T14:49:36.995441Z",
     "iopub.status.busy": "2023-08-15T14:49:36.995019Z",
     "iopub.status.idle": "2023-08-15T14:49:37.936453Z",
     "shell.execute_reply": "2023-08-15T14:49:37.935275Z"
    },
    "papermill": {
     "duration": 0.971467,
     "end_time": "2023-08-15T14:49:37.939510",
     "exception": false,
     "start_time": "2023-08-15T14:49:36.968043",
     "status": "completed"
    },
    "tags": []
   },
   "outputs": [
    {
     "name": "stderr",
     "output_type": "stream",
     "text": [
      "/tmp/ipykernel_20/956796254.py:1: UserWarning: \n",
      "\n",
      "`distplot` is a deprecated function and will be removed in seaborn v0.14.0.\n",
      "\n",
      "Please adapt your code to use either `displot` (a figure-level function with\n",
      "similar flexibility) or `histplot` (an axes-level function for histograms).\n",
      "\n",
      "For a guide to updating your code to use the new functions, please see\n",
      "https://gist.github.com/mwaskom/de44147ed2974457ad6372750bbe5751\n",
      "\n",
      "  ax = sns.distplot(log_transform_y)\n"
     ]
    },
    {
     "data": {
      "image/png": "[encoded data removed]",
      "text/plain": [
       "<Figure size 2000x1000 with 1 Axes>"
      ]
     },
     "metadata": {},
     "output_type": "display_data"
    }
   ],
   "source": [
    "ax = sns.distplot(log_transform_y)"
   ]
  },
  {
   "cell_type": "markdown",
   "id": "74560ee9",
   "metadata": {
    "papermill": {
     "duration": 0.025857,
     "end_time": "2023-08-15T14:49:37.991423",
     "exception": false,
     "start_time": "2023-08-15T14:49:37.965566",
     "status": "completed"
    },
    "tags": []
   },
   "source": [
    "<h3> Adding a new feature Price per sqft"
   ]
  },
  {
   "cell_type": "code",
   "execution_count": 17,
   "id": "a73a60dc",
   "metadata": {
    "execution": {
     "iopub.execute_input": "2023-08-15T14:49:38.046983Z",
     "iopub.status.busy": "2023-08-15T14:49:38.046572Z",
     "iopub.status.idle": "2023-08-15T14:49:38.064632Z",
     "shell.execute_reply": "2023-08-15T14:49:38.063420Z"
    },
    "papermill": {
     "duration": 0.048535,
     "end_time": "2023-08-15T14:49:38.067056",
     "exception": false,
     "start_time": "2023-08-15T14:49:38.018521",
     "status": "completed"
    },
    "tags": []
   },
   "outputs": [
    {
     "data": {
      "text/html": [
       "<div>\n",
       "<style scoped>\n",
       "    .dataframe tbody tr th:only-of-type {\n",
       "        vertical-align: middle;\n",
       "    }\n",
       "\n",
       "    .dataframe tbody tr th {\n",
       "        vertical-align: top;\n",
       "    }\n",
       "\n",
       "    .dataframe thead th {\n",
       "        text-align: right;\n",
       "    }\n",
       "</style>\n",
       "<table border=\"1\" class=\"dataframe\">\n",
       "  <thead>\n",
       "    <tr style=\"text-align: right;\">\n",
       "      <th></th>\n",
       "      <th>bhk</th>\n",
       "      <th>type</th>\n",
       "      <th>area</th>\n",
       "      <th>region</th>\n",
       "      <th>price_lakhs</th>\n",
       "      <th>price_per_sqft</th>\n",
       "    </tr>\n",
       "  </thead>\n",
       "  <tbody>\n",
       "    <tr>\n",
       "      <th>0</th>\n",
       "      <td>3</td>\n",
       "      <td>Apartment</td>\n",
       "      <td>685</td>\n",
       "      <td>Andheri West</td>\n",
       "      <td>250.00</td>\n",
       "      <td>0.364964</td>\n",
       "    </tr>\n",
       "    <tr>\n",
       "      <th>1</th>\n",
       "      <td>2</td>\n",
       "      <td>Apartment</td>\n",
       "      <td>640</td>\n",
       "      <td>Naigaon East</td>\n",
       "      <td>52.51</td>\n",
       "      <td>0.082047</td>\n",
       "    </tr>\n",
       "    <tr>\n",
       "      <th>2</th>\n",
       "      <td>2</td>\n",
       "      <td>Apartment</td>\n",
       "      <td>610</td>\n",
       "      <td>Borivali West</td>\n",
       "      <td>173.00</td>\n",
       "      <td>0.283607</td>\n",
       "    </tr>\n",
       "    <tr>\n",
       "      <th>3</th>\n",
       "      <td>2</td>\n",
       "      <td>Apartment</td>\n",
       "      <td>876</td>\n",
       "      <td>Panvel</td>\n",
       "      <td>59.98</td>\n",
       "      <td>0.068470</td>\n",
       "    </tr>\n",
       "    <tr>\n",
       "      <th>4</th>\n",
       "      <td>2</td>\n",
       "      <td>Apartment</td>\n",
       "      <td>659</td>\n",
       "      <td>Mira Road East</td>\n",
       "      <td>94.11</td>\n",
       "      <td>0.142807</td>\n",
       "    </tr>\n",
       "  </tbody>\n",
       "</table>\n",
       "</div>"
      ],
      "text/plain": [
       "   bhk       type  area          region  price_lakhs  price_per_sqft\n",
       "0    3  Apartment   685    Andheri West       250.00        0.364964\n",
       "1    2  Apartment   640    Naigaon East        52.51        0.082047\n",
       "2    2  Apartment   610   Borivali West       173.00        0.283607\n",
       "3    2  Apartment   876          Panvel        59.98        0.068470\n",
       "4    2  Apartment   659  Mira Road East        94.11        0.142807"
      ]
     },
     "execution_count": 17,
     "metadata": {},
     "output_type": "execute_result"
    }
   ],
   "source": [
    "df4 = df3.copy()\n",
    "df4['price_per_sqft'] = df4['price_lakhs']/df4['area']\n",
    "df4.head()"
   ]
  },
  {
   "cell_type": "code",
   "execution_count": 18,
   "id": "b28d75b2",
   "metadata": {
    "execution": {
     "iopub.execute_input": "2023-08-15T14:49:38.123677Z",
     "iopub.status.busy": "2023-08-15T14:49:38.123270Z",
     "iopub.status.idle": "2023-08-15T14:49:38.138387Z",
     "shell.execute_reply": "2023-08-15T14:49:38.136900Z"
    },
    "papermill": {
     "duration": 0.046463,
     "end_time": "2023-08-15T14:49:38.140997",
     "exception": false,
     "start_time": "2023-08-15T14:49:38.094534",
     "status": "completed"
    },
    "tags": []
   },
   "outputs": [
    {
     "data": {
      "text/plain": [
       "count    76038.000000\n",
       "mean         0.151188\n",
       "std          0.093329\n",
       "min          0.006468\n",
       "25%          0.085714\n",
       "50%          0.130000\n",
       "75%          0.194961\n",
       "max          1.823077\n",
       "Name: price_per_sqft, dtype: float64"
      ]
     },
     "execution_count": 18,
     "metadata": {},
     "output_type": "execute_result"
    }
   ],
   "source": [
    "df4['price_per_sqft'].describe()"
   ]
  },
  {
   "cell_type": "markdown",
   "id": "81bb3071",
   "metadata": {
    "papermill": {
     "duration": 0.025991,
     "end_time": "2023-08-15T14:49:38.193416",
     "exception": false,
     "start_time": "2023-08-15T14:49:38.167425",
     "status": "completed"
    },
    "tags": []
   },
   "source": [
    "<h3>Numerical and Categorical Features"
   ]
  },
  {
   "cell_type": "code",
   "execution_count": 19,
   "id": "3b9df021",
   "metadata": {
    "execution": {
     "iopub.execute_input": "2023-08-15T14:49:38.247780Z",
     "iopub.status.busy": "2023-08-15T14:49:38.247356Z",
     "iopub.status.idle": "2023-08-15T14:49:38.256086Z",
     "shell.execute_reply": "2023-08-15T14:49:38.255248Z"
    },
    "papermill": {
     "duration": 0.038774,
     "end_time": "2023-08-15T14:49:38.258515",
     "exception": false,
     "start_time": "2023-08-15T14:49:38.219741",
     "status": "completed"
    },
    "tags": []
   },
   "outputs": [],
   "source": [
    "numerical_features = df4[['bhk', 'area', 'price_lakhs', 'price_per_sqft']]\n",
    "categorical_features = df4.select_dtypes(include=['object'])"
   ]
  },
  {
   "cell_type": "markdown",
   "id": "7c42cf23",
   "metadata": {
    "papermill": {
     "duration": 0.026042,
     "end_time": "2023-08-15T14:49:38.310830",
     "exception": false,
     "start_time": "2023-08-15T14:49:38.284788",
     "status": "completed"
    },
    "tags": []
   },
   "source": [
    "<h3>Box-Plots for Numerical Features to detect Outliers"
   ]
  },
  {
   "cell_type": "code",
   "execution_count": 20,
   "id": "9238ae51",
   "metadata": {
    "execution": {
     "iopub.execute_input": "2023-08-15T14:49:38.367448Z",
     "iopub.status.busy": "2023-08-15T14:49:38.366666Z",
     "iopub.status.idle": "2023-08-15T14:49:39.433222Z",
     "shell.execute_reply": "2023-08-15T14:49:39.432015Z"
    },
    "papermill": {
     "duration": 1.097729,
     "end_time": "2023-08-15T14:49:39.435702",
     "exception": false,
     "start_time": "2023-08-15T14:49:38.337973",
     "status": "completed"
    },
    "tags": []
   },
   "outputs": [
    {
     "data": {
      "image/png": "[encoded data removed]",
      "text/plain": [
       "<Figure size 600x400 with 1 Axes>"
      ]
     },
     "metadata": {},
     "output_type": "display_data"
    },
    {
     "data": {
      "image/png": "[encoded data removed]",
      "text/plain": [
       "<Figure size 600x400 with 1 Axes>"
      ]
     },
     "metadata": {},
     "output_type": "display_data"
    },
    {
     "data": {
      "image/png": "[encoded data removed]",
      "text/plain": [
       "<Figure size 600x400 with 1 Axes>"
      ]
     },
     "metadata": {},
     "output_type": "display_data"
    },
    {
     "data": {
      "image/png": "[encoded data removed]",
      "text/plain": [
       "<Figure size 600x400 with 1 Axes>"
      ]
     },
     "metadata": {},
     "output_type": "display_data"
    }
   ],
   "source": [
    "for i, column in enumerate(numerical_features.columns):\n",
    "    plt.figure(figsize=(6, 4))\n",
    "    plt.boxplot(df4[column], vert=False, boxprops=dict())\n",
    "    plt.title(f'Box Plot of {column}')\n",
    "    plt.xlabel('Value')\n",
    "    plt.show()"
   ]
  },
  {
   "cell_type": "markdown",
   "id": "d46c3b39",
   "metadata": {
    "papermill": {
     "duration": 0.027666,
     "end_time": "2023-08-15T14:49:39.491952",
     "exception": false,
     "start_time": "2023-08-15T14:49:39.464286",
     "status": "completed"
    },
    "tags": []
   },
   "source": [
    "<h3>Standardizing the numerical features"
   ]
  },
  {
   "cell_type": "code",
   "execution_count": 21,
   "id": "6ebd5779",
   "metadata": {
    "execution": {
     "iopub.execute_input": "2023-08-15T14:49:39.550256Z",
     "iopub.status.busy": "2023-08-15T14:49:39.548702Z",
     "iopub.status.idle": "2023-08-15T14:49:39.571398Z",
     "shell.execute_reply": "2023-08-15T14:49:39.570183Z"
    },
    "papermill": {
     "duration": 0.054423,
     "end_time": "2023-08-15T14:49:39.573887",
     "exception": false,
     "start_time": "2023-08-15T14:49:39.519464",
     "status": "completed"
    },
    "tags": []
   },
   "outputs": [
    {
     "data": {
      "text/html": [
       "<div>\n",
       "<style scoped>\n",
       "    .dataframe tbody tr th:only-of-type {\n",
       "        vertical-align: middle;\n",
       "    }\n",
       "\n",
       "    .dataframe tbody tr th {\n",
       "        vertical-align: top;\n",
       "    }\n",
       "\n",
       "    .dataframe thead th {\n",
       "        text-align: right;\n",
       "    }\n",
       "</style>\n",
       "<table border=\"1\" class=\"dataframe\">\n",
       "  <thead>\n",
       "    <tr style=\"text-align: right;\">\n",
       "      <th></th>\n",
       "      <th>bhk</th>\n",
       "      <th>area</th>\n",
       "      <th>price_lakhs</th>\n",
       "      <th>price_per_sqft</th>\n",
       "    </tr>\n",
       "  </thead>\n",
       "  <tbody>\n",
       "    <tr>\n",
       "      <th>0</th>\n",
       "      <td>1.067343</td>\n",
       "      <td>-0.506566</td>\n",
       "      <td>0.374808</td>\n",
       "      <td>2.290572</td>\n",
       "    </tr>\n",
       "    <tr>\n",
       "      <th>1</th>\n",
       "      <td>-0.016376</td>\n",
       "      <td>-0.573703</td>\n",
       "      <td>-0.532508</td>\n",
       "      <td>-0.740838</td>\n",
       "    </tr>\n",
       "    <tr>\n",
       "      <th>2</th>\n",
       "      <td>-0.016376</td>\n",
       "      <td>-0.618461</td>\n",
       "      <td>0.021052</td>\n",
       "      <td>1.418844</td>\n",
       "    </tr>\n",
       "    <tr>\n",
       "      <th>3</th>\n",
       "      <td>-0.016376</td>\n",
       "      <td>-0.221607</td>\n",
       "      <td>-0.498189</td>\n",
       "      <td>-0.886309</td>\n",
       "    </tr>\n",
       "    <tr>\n",
       "      <th>4</th>\n",
       "      <td>-0.016376</td>\n",
       "      <td>-0.545356</td>\n",
       "      <td>-0.341387</td>\n",
       "      <td>-0.089799</td>\n",
       "    </tr>\n",
       "  </tbody>\n",
       "</table>\n",
       "</div>"
      ],
      "text/plain": [
       "        bhk      area  price_lakhs  price_per_sqft\n",
       "0  1.067343 -0.506566     0.374808        2.290572\n",
       "1 -0.016376 -0.573703    -0.532508       -0.740838\n",
       "2 -0.016376 -0.618461     0.021052        1.418844\n",
       "3 -0.016376 -0.221607    -0.498189       -0.886309\n",
       "4 -0.016376 -0.545356    -0.341387       -0.089799"
      ]
     },
     "execution_count": 21,
     "metadata": {},
     "output_type": "execute_result"
    }
   ],
   "source": [
    "scaler = StandardScaler()\n",
    "\n",
    "standardized_features = scaler.fit_transform(numerical_features)\n",
    "\n",
    "std_df4 = pd.DataFrame(standardized_features, columns=numerical_features.columns)\n",
    "std_df4.head()"
   ]
  },
  {
   "cell_type": "markdown",
   "id": "e5602fb5",
   "metadata": {
    "papermill": {
     "duration": 0.029798,
     "end_time": "2023-08-15T14:49:39.631527",
     "exception": false,
     "start_time": "2023-08-15T14:49:39.601729",
     "status": "completed"
    },
    "tags": []
   },
   "source": [
    "Correlation Matrix for the numerical variables"
   ]
  },
  {
   "cell_type": "code",
   "execution_count": 22,
   "id": "7c6f41fa",
   "metadata": {
    "execution": {
     "iopub.execute_input": "2023-08-15T14:49:39.690772Z",
     "iopub.status.busy": "2023-08-15T14:49:39.690367Z",
     "iopub.status.idle": "2023-08-15T14:49:39.710148Z",
     "shell.execute_reply": "2023-08-15T14:49:39.708914Z"
    },
    "papermill": {
     "duration": 0.052903,
     "end_time": "2023-08-15T14:49:39.712706",
     "exception": false,
     "start_time": "2023-08-15T14:49:39.659803",
     "status": "completed"
    },
    "tags": []
   },
   "outputs": [
    {
     "data": {
      "text/html": [
       "<div>\n",
       "<style scoped>\n",
       "    .dataframe tbody tr th:only-of-type {\n",
       "        vertical-align: middle;\n",
       "    }\n",
       "\n",
       "    .dataframe tbody tr th {\n",
       "        vertical-align: top;\n",
       "    }\n",
       "\n",
       "    .dataframe thead th {\n",
       "        text-align: right;\n",
       "    }\n",
       "</style>\n",
       "<table border=\"1\" class=\"dataframe\">\n",
       "  <thead>\n",
       "    <tr style=\"text-align: right;\">\n",
       "      <th></th>\n",
       "      <th>bhk</th>\n",
       "      <th>area</th>\n",
       "      <th>price_lakhs</th>\n",
       "      <th>price_per_sqft</th>\n",
       "    </tr>\n",
       "  </thead>\n",
       "  <tbody>\n",
       "    <tr>\n",
       "      <th>bhk</th>\n",
       "      <td>1.000000</td>\n",
       "      <td>0.787738</td>\n",
       "      <td>0.631353</td>\n",
       "      <td>0.362950</td>\n",
       "    </tr>\n",
       "    <tr>\n",
       "      <th>area</th>\n",
       "      <td>0.787738</td>\n",
       "      <td>1.000000</td>\n",
       "      <td>0.756000</td>\n",
       "      <td>0.216128</td>\n",
       "    </tr>\n",
       "    <tr>\n",
       "      <th>price_lakhs</th>\n",
       "      <td>0.631353</td>\n",
       "      <td>0.756000</td>\n",
       "      <td>1.000000</td>\n",
       "      <td>0.664473</td>\n",
       "    </tr>\n",
       "    <tr>\n",
       "      <th>price_per_sqft</th>\n",
       "      <td>0.362950</td>\n",
       "      <td>0.216128</td>\n",
       "      <td>0.664473</td>\n",
       "      <td>1.000000</td>\n",
       "    </tr>\n",
       "  </tbody>\n",
       "</table>\n",
       "</div>"
      ],
      "text/plain": [
       "                     bhk      area  price_lakhs  price_per_sqft\n",
       "bhk             1.000000  0.787738     0.631353        0.362950\n",
       "area            0.787738  1.000000     0.756000        0.216128\n",
       "price_lakhs     0.631353  0.756000     1.000000        0.664473\n",
       "price_per_sqft  0.362950  0.216128     0.664473        1.000000"
      ]
     },
     "execution_count": 22,
     "metadata": {},
     "output_type": "execute_result"
    }
   ],
   "source": [
    "std_df4.corr()"
   ]
  },
  {
   "cell_type": "markdown",
   "id": "a89b66fe",
   "metadata": {
    "papermill": {
     "duration": 0.028459,
     "end_time": "2023-08-15T14:49:39.769519",
     "exception": false,
     "start_time": "2023-08-15T14:49:39.741060",
     "status": "completed"
    },
    "tags": []
   },
   "source": [
    "Concatinating with the categorical features"
   ]
  },
  {
   "cell_type": "code",
   "execution_count": 23,
   "id": "adde7131",
   "metadata": {
    "execution": {
     "iopub.execute_input": "2023-08-15T14:49:39.828909Z",
     "iopub.status.busy": "2023-08-15T14:49:39.828514Z",
     "iopub.status.idle": "2023-08-15T14:49:39.846296Z",
     "shell.execute_reply": "2023-08-15T14:49:39.845043Z"
    },
    "papermill": {
     "duration": 0.050842,
     "end_time": "2023-08-15T14:49:39.848854",
     "exception": false,
     "start_time": "2023-08-15T14:49:39.798012",
     "status": "completed"
    },
    "tags": []
   },
   "outputs": [
    {
     "data": {
      "text/html": [
       "<div>\n",
       "<style scoped>\n",
       "    .dataframe tbody tr th:only-of-type {\n",
       "        vertical-align: middle;\n",
       "    }\n",
       "\n",
       "    .dataframe tbody tr th {\n",
       "        vertical-align: top;\n",
       "    }\n",
       "\n",
       "    .dataframe thead th {\n",
       "        text-align: right;\n",
       "    }\n",
       "</style>\n",
       "<table border=\"1\" class=\"dataframe\">\n",
       "  <thead>\n",
       "    <tr style=\"text-align: right;\">\n",
       "      <th></th>\n",
       "      <th>bhk</th>\n",
       "      <th>area</th>\n",
       "      <th>price_lakhs</th>\n",
       "      <th>price_per_sqft</th>\n",
       "      <th>type</th>\n",
       "      <th>region</th>\n",
       "    </tr>\n",
       "  </thead>\n",
       "  <tbody>\n",
       "    <tr>\n",
       "      <th>0</th>\n",
       "      <td>1.067343</td>\n",
       "      <td>-0.506566</td>\n",
       "      <td>0.374808</td>\n",
       "      <td>2.290572</td>\n",
       "      <td>Apartment</td>\n",
       "      <td>Andheri West</td>\n",
       "    </tr>\n",
       "    <tr>\n",
       "      <th>1</th>\n",
       "      <td>-0.016376</td>\n",
       "      <td>-0.573703</td>\n",
       "      <td>-0.532508</td>\n",
       "      <td>-0.740838</td>\n",
       "      <td>Apartment</td>\n",
       "      <td>Naigaon East</td>\n",
       "    </tr>\n",
       "    <tr>\n",
       "      <th>2</th>\n",
       "      <td>-0.016376</td>\n",
       "      <td>-0.618461</td>\n",
       "      <td>0.021052</td>\n",
       "      <td>1.418844</td>\n",
       "      <td>Apartment</td>\n",
       "      <td>Borivali West</td>\n",
       "    </tr>\n",
       "    <tr>\n",
       "      <th>3</th>\n",
       "      <td>-0.016376</td>\n",
       "      <td>-0.221607</td>\n",
       "      <td>-0.498189</td>\n",
       "      <td>-0.886309</td>\n",
       "      <td>Apartment</td>\n",
       "      <td>Panvel</td>\n",
       "    </tr>\n",
       "    <tr>\n",
       "      <th>4</th>\n",
       "      <td>-0.016376</td>\n",
       "      <td>-0.545356</td>\n",
       "      <td>-0.341387</td>\n",
       "      <td>-0.089799</td>\n",
       "      <td>Apartment</td>\n",
       "      <td>Mira Road East</td>\n",
       "    </tr>\n",
       "  </tbody>\n",
       "</table>\n",
       "</div>"
      ],
      "text/plain": [
       "        bhk      area  price_lakhs  price_per_sqft       type          region\n",
       "0  1.067343 -0.506566     0.374808        2.290572  Apartment    Andheri West\n",
       "1 -0.016376 -0.573703    -0.532508       -0.740838  Apartment    Naigaon East\n",
       "2 -0.016376 -0.618461     0.021052        1.418844  Apartment   Borivali West\n",
       "3 -0.016376 -0.221607    -0.498189       -0.886309  Apartment          Panvel\n",
       "4 -0.016376 -0.545356    -0.341387       -0.089799  Apartment  Mira Road East"
      ]
     },
     "execution_count": 23,
     "metadata": {},
     "output_type": "execute_result"
    }
   ],
   "source": [
    "std_df5 = pd.concat([std_df4, categorical_features], axis=1)\n",
    "std_df5.head()"
   ]
  },
  {
   "cell_type": "markdown",
   "id": "4ca06896",
   "metadata": {
    "papermill": {
     "duration": 0.028357,
     "end_time": "2023-08-15T14:49:39.905848",
     "exception": false,
     "start_time": "2023-08-15T14:49:39.877491",
     "status": "completed"
    },
    "tags": []
   },
   "source": [
    "<h2> Dimensionality Reduction"
   ]
  },
  {
   "cell_type": "markdown",
   "id": "5cb67621",
   "metadata": {
    "papermill": {
     "duration": 0.029095,
     "end_time": "2023-08-15T14:49:39.963401",
     "exception": false,
     "start_time": "2023-08-15T14:49:39.934306",
     "status": "completed"
    },
    "tags": []
   },
   "source": [
    "<h3>Examine region which is a categorical variable. We need to apply dimensionality reduction technique here to reduce number of locations"
   ]
  },
  {
   "cell_type": "code",
   "execution_count": 24,
   "id": "42d30282",
   "metadata": {
    "execution": {
     "iopub.execute_input": "2023-08-15T14:49:40.022950Z",
     "iopub.status.busy": "2023-08-15T14:49:40.022559Z",
     "iopub.status.idle": "2023-08-15T14:49:40.069589Z",
     "shell.execute_reply": "2023-08-15T14:49:40.068275Z"
    },
    "papermill": {
     "duration": 0.080427,
     "end_time": "2023-08-15T14:49:40.072157",
     "exception": false,
     "start_time": "2023-08-15T14:49:39.991730",
     "status": "completed"
    },
    "tags": []
   },
   "outputs": [
    {
     "data": {
      "text/plain": [
       "Thane West         14868\n",
       "Mira Road East      9902\n",
       "Dombivali           3041\n",
       "Kandivali East      2568\n",
       "Kharghar            2362\n",
       "                   ...  \n",
       "Police Colony          1\n",
       "GTB Nagar              1\n",
       "Bandra                 1\n",
       "Sector 14 Vashi        1\n",
       "Goregaon               1\n",
       "Name: region, Length: 228, dtype: int64"
      ]
     },
     "execution_count": 24,
     "metadata": {},
     "output_type": "execute_result"
    }
   ],
   "source": [
    "std_df5.region = std_df5.region.apply(lambda x: x.strip())\n",
    "location_stats = std_df5['region'].value_counts(ascending=False)\n",
    "location_stats"
   ]
  },
  {
   "cell_type": "code",
   "execution_count": 25,
   "id": "abdd0cd0",
   "metadata": {
    "execution": {
     "iopub.execute_input": "2023-08-15T14:49:40.131798Z",
     "iopub.status.busy": "2023-08-15T14:49:40.131375Z",
     "iopub.status.idle": "2023-08-15T14:49:40.138702Z",
     "shell.execute_reply": "2023-08-15T14:49:40.137437Z"
    },
    "papermill": {
     "duration": 0.040153,
     "end_time": "2023-08-15T14:49:40.141142",
     "exception": false,
     "start_time": "2023-08-15T14:49:40.100989",
     "status": "completed"
    },
    "tags": []
   },
   "outputs": [
    {
     "data": {
      "text/plain": [
       "76038"
      ]
     },
     "execution_count": 25,
     "metadata": {},
     "output_type": "execute_result"
    }
   ],
   "source": [
    "location_stats.values.sum()"
   ]
  },
  {
   "cell_type": "code",
   "execution_count": 26,
   "id": "27bc0575",
   "metadata": {
    "execution": {
     "iopub.execute_input": "2023-08-15T14:49:40.200377Z",
     "iopub.status.busy": "2023-08-15T14:49:40.199960Z",
     "iopub.status.idle": "2023-08-15T14:49:40.207167Z",
     "shell.execute_reply": "2023-08-15T14:49:40.205983Z"
    },
    "papermill": {
     "duration": 0.039331,
     "end_time": "2023-08-15T14:49:40.209161",
     "exception": false,
     "start_time": "2023-08-15T14:49:40.169830",
     "status": "completed"
    },
    "tags": []
   },
   "outputs": [
    {
     "data": {
      "text/plain": [
       "114"
      ]
     },
     "execution_count": 26,
     "metadata": {},
     "output_type": "execute_result"
    }
   ],
   "source": [
    "len(location_stats[location_stats>10])"
   ]
  },
  {
   "cell_type": "code",
   "execution_count": 27,
   "id": "4a959243",
   "metadata": {
    "execution": {
     "iopub.execute_input": "2023-08-15T14:49:40.269815Z",
     "iopub.status.busy": "2023-08-15T14:49:40.269404Z",
     "iopub.status.idle": "2023-08-15T14:49:40.277609Z",
     "shell.execute_reply": "2023-08-15T14:49:40.276505Z"
    },
    "papermill": {
     "duration": 0.041593,
     "end_time": "2023-08-15T14:49:40.280098",
     "exception": false,
     "start_time": "2023-08-15T14:49:40.238505",
     "status": "completed"
    },
    "tags": []
   },
   "outputs": [
    {
     "data": {
      "text/plain": [
       "114"
      ]
     },
     "execution_count": 27,
     "metadata": {},
     "output_type": "execute_result"
    }
   ],
   "source": [
    "len(location_stats[location_stats<=10])"
   ]
  },
  {
   "cell_type": "code",
   "execution_count": 28,
   "id": "a94d7101",
   "metadata": {
    "execution": {
     "iopub.execute_input": "2023-08-15T14:49:40.340039Z",
     "iopub.status.busy": "2023-08-15T14:49:40.339641Z",
     "iopub.status.idle": "2023-08-15T14:49:40.349691Z",
     "shell.execute_reply": "2023-08-15T14:49:40.348501Z"
    },
    "papermill": {
     "duration": 0.04316,
     "end_time": "2023-08-15T14:49:40.352117",
     "exception": false,
     "start_time": "2023-08-15T14:49:40.308957",
     "status": "completed"
    },
    "tags": []
   },
   "outputs": [
    {
     "data": {
      "text/plain": [
       "Kanjurmarg East      10\n",
       "Vasind               10\n",
       "Sector 20 Kamothe    10\n",
       "Koproli              10\n",
       "Cuffe Parade          9\n",
       "                     ..\n",
       "Police Colony         1\n",
       "GTB Nagar             1\n",
       "Bandra                1\n",
       "Sector 14 Vashi       1\n",
       "Goregaon              1\n",
       "Name: region, Length: 114, dtype: int64"
      ]
     },
     "execution_count": 28,
     "metadata": {},
     "output_type": "execute_result"
    }
   ],
   "source": [
    "location_stats_less_than_10 = location_stats[location_stats<=10]\n",
    "location_stats_less_than_10"
   ]
  },
  {
   "cell_type": "code",
   "execution_count": 29,
   "id": "e5f49b84",
   "metadata": {
    "execution": {
     "iopub.execute_input": "2023-08-15T14:49:40.413189Z",
     "iopub.status.busy": "2023-08-15T14:49:40.412806Z",
     "iopub.status.idle": "2023-08-15T14:49:40.428685Z",
     "shell.execute_reply": "2023-08-15T14:49:40.427408Z"
    },
    "papermill": {
     "duration": 0.049893,
     "end_time": "2023-08-15T14:49:40.431340",
     "exception": false,
     "start_time": "2023-08-15T14:49:40.381447",
     "status": "completed"
    },
    "tags": []
   },
   "outputs": [
    {
     "data": {
      "text/plain": [
       "228"
      ]
     },
     "execution_count": 29,
     "metadata": {},
     "output_type": "execute_result"
    }
   ],
   "source": [
    "len(std_df5.region.unique())"
   ]
  },
  {
   "cell_type": "code",
   "execution_count": 30,
   "id": "24bc981a",
   "metadata": {
    "execution": {
     "iopub.execute_input": "2023-08-15T14:49:40.494021Z",
     "iopub.status.busy": "2023-08-15T14:49:40.493266Z",
     "iopub.status.idle": "2023-08-15T14:49:40.778924Z",
     "shell.execute_reply": "2023-08-15T14:49:40.777704Z"
    },
    "papermill": {
     "duration": 0.320094,
     "end_time": "2023-08-15T14:49:40.781707",
     "exception": false,
     "start_time": "2023-08-15T14:49:40.461613",
     "status": "completed"
    },
    "tags": []
   },
   "outputs": [
    {
     "data": {
      "text/plain": [
       "228"
      ]
     },
     "execution_count": 30,
     "metadata": {},
     "output_type": "execute_result"
    }
   ],
   "source": [
    "std_df5.region = std_df5.region.apply(lambda x: 'other' if x in location_stats_less_than_10 else x)\n",
    "len(df4.region.unique())"
   ]
  },
  {
   "cell_type": "code",
   "execution_count": 31,
   "id": "7acfcf9d",
   "metadata": {
    "execution": {
     "iopub.execute_input": "2023-08-15T14:49:40.843596Z",
     "iopub.status.busy": "2023-08-15T14:49:40.843147Z",
     "iopub.status.idle": "2023-08-15T14:49:40.864310Z",
     "shell.execute_reply": "2023-08-15T14:49:40.863094Z"
    },
    "papermill": {
     "duration": 0.055768,
     "end_time": "2023-08-15T14:49:40.866945",
     "exception": false,
     "start_time": "2023-08-15T14:49:40.811177",
     "status": "completed"
    },
    "tags": []
   },
   "outputs": [
    {
     "data": {
      "text/plain": [
       "Thane West           14868\n",
       "Mira Road East        9902\n",
       "Dombivali             3041\n",
       "Kandivali East        2568\n",
       "Kharghar              2362\n",
       "                     ...  \n",
       "Sector 21 Kamothe       16\n",
       "Kalwa                   15\n",
       "Nalasopara East         15\n",
       "Vangani                 13\n",
       "Saphale                 12\n",
       "Name: region, Length: 115, dtype: int64"
      ]
     },
     "execution_count": 31,
     "metadata": {},
     "output_type": "execute_result"
    }
   ],
   "source": [
    "std_df5.region.value_counts()"
   ]
  },
  {
   "cell_type": "markdown",
   "id": "96242873",
   "metadata": {
    "papermill": {
     "duration": 0.029686,
     "end_time": "2023-08-15T14:49:40.926556",
     "exception": false,
     "start_time": "2023-08-15T14:49:40.896870",
     "status": "completed"
    },
    "tags": []
   },
   "source": [
    "shifting the response variable to the end of df"
   ]
  },
  {
   "cell_type": "code",
   "execution_count": 32,
   "id": "71606655",
   "metadata": {
    "execution": {
     "iopub.execute_input": "2023-08-15T14:49:40.989617Z",
     "iopub.status.busy": "2023-08-15T14:49:40.989157Z",
     "iopub.status.idle": "2023-08-15T14:49:41.012100Z",
     "shell.execute_reply": "2023-08-15T14:49:41.010745Z"
    },
    "papermill": {
     "duration": 0.058036,
     "end_time": "2023-08-15T14:49:41.015055",
     "exception": false,
     "start_time": "2023-08-15T14:49:40.957019",
     "status": "completed"
    },
    "tags": []
   },
   "outputs": [
    {
     "data": {
      "text/html": [
       "<div>\n",
       "<style scoped>\n",
       "    .dataframe tbody tr th:only-of-type {\n",
       "        vertical-align: middle;\n",
       "    }\n",
       "\n",
       "    .dataframe tbody tr th {\n",
       "        vertical-align: top;\n",
       "    }\n",
       "\n",
       "    .dataframe thead th {\n",
       "        text-align: right;\n",
       "    }\n",
       "</style>\n",
       "<table border=\"1\" class=\"dataframe\">\n",
       "  <thead>\n",
       "    <tr style=\"text-align: right;\">\n",
       "      <th></th>\n",
       "      <th>bhk</th>\n",
       "      <th>area</th>\n",
       "      <th>price_per_sqft</th>\n",
       "      <th>type</th>\n",
       "      <th>region</th>\n",
       "      <th>price_lakhs</th>\n",
       "    </tr>\n",
       "  </thead>\n",
       "  <tbody>\n",
       "    <tr>\n",
       "      <th>0</th>\n",
       "      <td>1.067343</td>\n",
       "      <td>-0.506566</td>\n",
       "      <td>2.290572</td>\n",
       "      <td>Apartment</td>\n",
       "      <td>Andheri West</td>\n",
       "      <td>0.374808</td>\n",
       "    </tr>\n",
       "    <tr>\n",
       "      <th>1</th>\n",
       "      <td>-0.016376</td>\n",
       "      <td>-0.573703</td>\n",
       "      <td>-0.740838</td>\n",
       "      <td>Apartment</td>\n",
       "      <td>Naigaon East</td>\n",
       "      <td>-0.532508</td>\n",
       "    </tr>\n",
       "    <tr>\n",
       "      <th>2</th>\n",
       "      <td>-0.016376</td>\n",
       "      <td>-0.618461</td>\n",
       "      <td>1.418844</td>\n",
       "      <td>Apartment</td>\n",
       "      <td>Borivali West</td>\n",
       "      <td>0.021052</td>\n",
       "    </tr>\n",
       "    <tr>\n",
       "      <th>3</th>\n",
       "      <td>-0.016376</td>\n",
       "      <td>-0.221607</td>\n",
       "      <td>-0.886309</td>\n",
       "      <td>Apartment</td>\n",
       "      <td>Panvel</td>\n",
       "      <td>-0.498189</td>\n",
       "    </tr>\n",
       "    <tr>\n",
       "      <th>4</th>\n",
       "      <td>-0.016376</td>\n",
       "      <td>-0.545356</td>\n",
       "      <td>-0.089799</td>\n",
       "      <td>Apartment</td>\n",
       "      <td>Mira Road East</td>\n",
       "      <td>-0.341387</td>\n",
       "    </tr>\n",
       "  </tbody>\n",
       "</table>\n",
       "</div>"
      ],
      "text/plain": [
       "        bhk      area  price_per_sqft       type          region  price_lakhs\n",
       "0  1.067343 -0.506566        2.290572  Apartment    Andheri West     0.374808\n",
       "1 -0.016376 -0.573703       -0.740838  Apartment    Naigaon East    -0.532508\n",
       "2 -0.016376 -0.618461        1.418844  Apartment   Borivali West     0.021052\n",
       "3 -0.016376 -0.221607       -0.886309  Apartment          Panvel    -0.498189\n",
       "4 -0.016376 -0.545356       -0.089799  Apartment  Mira Road East    -0.341387"
      ]
     },
     "execution_count": 32,
     "metadata": {},
     "output_type": "execute_result"
    }
   ],
   "source": [
    "target_col = 'price_lakhs'\n",
    "std_df5 = std_df5[[col for col in std_df5.columns if col != target_col] + [target_col]]\n",
    "std_df5.head()"
   ]
  },
  {
   "cell_type": "markdown",
   "id": "92b689a2",
   "metadata": {
    "papermill": {
     "duration": 0.032212,
     "end_time": "2023-08-15T14:49:41.078513",
     "exception": false,
     "start_time": "2023-08-15T14:49:41.046301",
     "status": "completed"
    },
    "tags": []
   },
   "source": [
    "<h3>One Hot Encoding of Categorical Variables : type, region"
   ]
  },
  {
   "cell_type": "markdown",
   "id": "b4d64bd4",
   "metadata": {
    "papermill": {
     "duration": 0.029836,
     "end_time": "2023-08-15T14:49:41.138475",
     "exception": false,
     "start_time": "2023-08-15T14:49:41.108639",
     "status": "completed"
    },
    "tags": []
   },
   "source": [
    "Type"
   ]
  },
  {
   "cell_type": "code",
   "execution_count": 33,
   "id": "cc160f9e",
   "metadata": {
    "execution": {
     "iopub.execute_input": "2023-08-15T14:49:41.201605Z",
     "iopub.status.busy": "2023-08-15T14:49:41.201180Z",
     "iopub.status.idle": "2023-08-15T14:49:41.244376Z",
     "shell.execute_reply": "2023-08-15T14:49:41.243237Z"
    },
    "papermill": {
     "duration": 0.077711,
     "end_time": "2023-08-15T14:49:41.247048",
     "exception": false,
     "start_time": "2023-08-15T14:49:41.169337",
     "status": "completed"
    },
    "tags": []
   },
   "outputs": [
    {
     "data": {
      "text/html": [
       "<div>\n",
       "<style scoped>\n",
       "    .dataframe tbody tr th:only-of-type {\n",
       "        vertical-align: middle;\n",
       "    }\n",
       "\n",
       "    .dataframe tbody tr th {\n",
       "        vertical-align: top;\n",
       "    }\n",
       "\n",
       "    .dataframe thead th {\n",
       "        text-align: right;\n",
       "    }\n",
       "</style>\n",
       "<table border=\"1\" class=\"dataframe\">\n",
       "  <thead>\n",
       "    <tr style=\"text-align: right;\">\n",
       "      <th></th>\n",
       "      <th>bhk</th>\n",
       "      <th>area</th>\n",
       "      <th>price_per_sqft</th>\n",
       "      <th>region</th>\n",
       "      <th>price_lakhs</th>\n",
       "      <th>type_Apartment</th>\n",
       "      <th>type_Independent House</th>\n",
       "      <th>type_Penthouse</th>\n",
       "      <th>type_Studio Apartment</th>\n",
       "      <th>type_Villa</th>\n",
       "    </tr>\n",
       "  </thead>\n",
       "  <tbody>\n",
       "    <tr>\n",
       "      <th>0</th>\n",
       "      <td>1.067343</td>\n",
       "      <td>-0.506566</td>\n",
       "      <td>2.290572</td>\n",
       "      <td>Andheri West</td>\n",
       "      <td>0.374808</td>\n",
       "      <td>1</td>\n",
       "      <td>0</td>\n",
       "      <td>0</td>\n",
       "      <td>0</td>\n",
       "      <td>0</td>\n",
       "    </tr>\n",
       "    <tr>\n",
       "      <th>1</th>\n",
       "      <td>-0.016376</td>\n",
       "      <td>-0.573703</td>\n",
       "      <td>-0.740838</td>\n",
       "      <td>Naigaon East</td>\n",
       "      <td>-0.532508</td>\n",
       "      <td>1</td>\n",
       "      <td>0</td>\n",
       "      <td>0</td>\n",
       "      <td>0</td>\n",
       "      <td>0</td>\n",
       "    </tr>\n",
       "    <tr>\n",
       "      <th>2</th>\n",
       "      <td>-0.016376</td>\n",
       "      <td>-0.618461</td>\n",
       "      <td>1.418844</td>\n",
       "      <td>Borivali West</td>\n",
       "      <td>0.021052</td>\n",
       "      <td>1</td>\n",
       "      <td>0</td>\n",
       "      <td>0</td>\n",
       "      <td>0</td>\n",
       "      <td>0</td>\n",
       "    </tr>\n",
       "    <tr>\n",
       "      <th>3</th>\n",
       "      <td>-0.016376</td>\n",
       "      <td>-0.221607</td>\n",
       "      <td>-0.886309</td>\n",
       "      <td>Panvel</td>\n",
       "      <td>-0.498189</td>\n",
       "      <td>1</td>\n",
       "      <td>0</td>\n",
       "      <td>0</td>\n",
       "      <td>0</td>\n",
       "      <td>0</td>\n",
       "    </tr>\n",
       "    <tr>\n",
       "      <th>4</th>\n",
       "      <td>-0.016376</td>\n",
       "      <td>-0.545356</td>\n",
       "      <td>-0.089799</td>\n",
       "      <td>Mira Road East</td>\n",
       "      <td>-0.341387</td>\n",
       "      <td>1</td>\n",
       "      <td>0</td>\n",
       "      <td>0</td>\n",
       "      <td>0</td>\n",
       "      <td>0</td>\n",
       "    </tr>\n",
       "  </tbody>\n",
       "</table>\n",
       "</div>"
      ],
      "text/plain": [
       "        bhk      area  price_per_sqft          region  price_lakhs  \\\n",
       "0  1.067343 -0.506566        2.290572    Andheri West     0.374808   \n",
       "1 -0.016376 -0.573703       -0.740838    Naigaon East    -0.532508   \n",
       "2 -0.016376 -0.618461        1.418844   Borivali West     0.021052   \n",
       "3 -0.016376 -0.221607       -0.886309          Panvel    -0.498189   \n",
       "4 -0.016376 -0.545356       -0.089799  Mira Road East    -0.341387   \n",
       "\n",
       "   type_Apartment  type_Independent House  type_Penthouse  \\\n",
       "0               1                       0               0   \n",
       "1               1                       0               0   \n",
       "2               1                       0               0   \n",
       "3               1                       0               0   \n",
       "4               1                       0               0   \n",
       "\n",
       "   type_Studio Apartment  type_Villa  \n",
       "0                      0           0  \n",
       "1                      0           0  \n",
       "2                      0           0  \n",
       "3                      0           0  \n",
       "4                      0           0  "
      ]
     },
     "execution_count": 33,
     "metadata": {},
     "output_type": "execute_result"
    }
   ],
   "source": [
    "df5 = std_df5.copy()\n",
    "df5 = pd.get_dummies(df5, columns=['type'], prefix=['type'])\n",
    "df5.head()"
   ]
  },
  {
   "cell_type": "markdown",
   "id": "b706da3e",
   "metadata": {
    "papermill": {
     "duration": 0.030284,
     "end_time": "2023-08-15T14:49:41.308325",
     "exception": false,
     "start_time": "2023-08-15T14:49:41.278041",
     "status": "completed"
    },
    "tags": []
   },
   "source": [
    "Region"
   ]
  },
  {
   "cell_type": "code",
   "execution_count": 34,
   "id": "aeddfc9f",
   "metadata": {
    "execution": {
     "iopub.execute_input": "2023-08-15T14:49:41.371313Z",
     "iopub.status.busy": "2023-08-15T14:49:41.370887Z",
     "iopub.status.idle": "2023-08-15T14:49:41.462136Z",
     "shell.execute_reply": "2023-08-15T14:49:41.460661Z"
    },
    "papermill": {
     "duration": 0.126118,
     "end_time": "2023-08-15T14:49:41.465035",
     "exception": false,
     "start_time": "2023-08-15T14:49:41.338917",
     "status": "completed"
    },
    "tags": []
   },
   "outputs": [],
   "source": [
    "df_encoded = pd.get_dummies(df5, columns=['region'], prefix=['region'])"
   ]
  },
  {
   "cell_type": "code",
   "execution_count": 35,
   "id": "84e0d319",
   "metadata": {
    "execution": {
     "iopub.execute_input": "2023-08-15T14:49:41.529307Z",
     "iopub.status.busy": "2023-08-15T14:49:41.528896Z",
     "iopub.status.idle": "2023-08-15T14:49:41.551767Z",
     "shell.execute_reply": "2023-08-15T14:49:41.550482Z"
    },
    "papermill": {
     "duration": 0.058767,
     "end_time": "2023-08-15T14:49:41.554568",
     "exception": false,
     "start_time": "2023-08-15T14:49:41.495801",
     "status": "completed"
    },
    "tags": []
   },
   "outputs": [
    {
     "data": {
      "text/html": [
       "<div>\n",
       "<style scoped>\n",
       "    .dataframe tbody tr th:only-of-type {\n",
       "        vertical-align: middle;\n",
       "    }\n",
       "\n",
       "    .dataframe tbody tr th {\n",
       "        vertical-align: top;\n",
       "    }\n",
       "\n",
       "    .dataframe thead th {\n",
       "        text-align: right;\n",
       "    }\n",
       "</style>\n",
       "<table border=\"1\" class=\"dataframe\">\n",
       "  <thead>\n",
       "    <tr style=\"text-align: right;\">\n",
       "      <th></th>\n",
       "      <th>bhk</th>\n",
       "      <th>area</th>\n",
       "      <th>price_per_sqft</th>\n",
       "      <th>price_lakhs</th>\n",
       "      <th>type_Apartment</th>\n",
       "      <th>type_Independent House</th>\n",
       "      <th>type_Penthouse</th>\n",
       "      <th>type_Studio Apartment</th>\n",
       "      <th>type_Villa</th>\n",
       "      <th>region_Agripada</th>\n",
       "      <th>...</th>\n",
       "      <th>region_Vasai</th>\n",
       "      <th>region_Vashi</th>\n",
       "      <th>region_Vikhroli</th>\n",
       "      <th>region_Ville Parle East</th>\n",
       "      <th>region_Ville Parle West</th>\n",
       "      <th>region_Virar</th>\n",
       "      <th>region_Virar West</th>\n",
       "      <th>region_Wadala</th>\n",
       "      <th>region_Worli</th>\n",
       "      <th>region_other</th>\n",
       "    </tr>\n",
       "  </thead>\n",
       "  <tbody>\n",
       "    <tr>\n",
       "      <th>0</th>\n",
       "      <td>1.067343</td>\n",
       "      <td>-0.506566</td>\n",
       "      <td>2.290572</td>\n",
       "      <td>0.374808</td>\n",
       "      <td>1</td>\n",
       "      <td>0</td>\n",
       "      <td>0</td>\n",
       "      <td>0</td>\n",
       "      <td>0</td>\n",
       "      <td>0</td>\n",
       "      <td>...</td>\n",
       "      <td>0</td>\n",
       "      <td>0</td>\n",
       "      <td>0</td>\n",
       "      <td>0</td>\n",
       "      <td>0</td>\n",
       "      <td>0</td>\n",
       "      <td>0</td>\n",
       "      <td>0</td>\n",
       "      <td>0</td>\n",
       "      <td>0</td>\n",
       "    </tr>\n",
       "    <tr>\n",
       "      <th>1</th>\n",
       "      <td>-0.016376</td>\n",
       "      <td>-0.573703</td>\n",
       "      <td>-0.740838</td>\n",
       "      <td>-0.532508</td>\n",
       "      <td>1</td>\n",
       "      <td>0</td>\n",
       "      <td>0</td>\n",
       "      <td>0</td>\n",
       "      <td>0</td>\n",
       "      <td>0</td>\n",
       "      <td>...</td>\n",
       "      <td>0</td>\n",
       "      <td>0</td>\n",
       "      <td>0</td>\n",
       "      <td>0</td>\n",
       "      <td>0</td>\n",
       "      <td>0</td>\n",
       "      <td>0</td>\n",
       "      <td>0</td>\n",
       "      <td>0</td>\n",
       "      <td>0</td>\n",
       "    </tr>\n",
       "    <tr>\n",
       "      <th>2</th>\n",
       "      <td>-0.016376</td>\n",
       "      <td>-0.618461</td>\n",
       "      <td>1.418844</td>\n",
       "      <td>0.021052</td>\n",
       "      <td>1</td>\n",
       "      <td>0</td>\n",
       "      <td>0</td>\n",
       "      <td>0</td>\n",
       "      <td>0</td>\n",
       "      <td>0</td>\n",
       "      <td>...</td>\n",
       "      <td>0</td>\n",
       "      <td>0</td>\n",
       "      <td>0</td>\n",
       "      <td>0</td>\n",
       "      <td>0</td>\n",
       "      <td>0</td>\n",
       "      <td>0</td>\n",
       "      <td>0</td>\n",
       "      <td>0</td>\n",
       "      <td>0</td>\n",
       "    </tr>\n",
       "    <tr>\n",
       "      <th>3</th>\n",
       "      <td>-0.016376</td>\n",
       "      <td>-0.221607</td>\n",
       "      <td>-0.886309</td>\n",
       "      <td>-0.498189</td>\n",
       "      <td>1</td>\n",
       "      <td>0</td>\n",
       "      <td>0</td>\n",
       "      <td>0</td>\n",
       "      <td>0</td>\n",
       "      <td>0</td>\n",
       "      <td>...</td>\n",
       "      <td>0</td>\n",
       "      <td>0</td>\n",
       "      <td>0</td>\n",
       "      <td>0</td>\n",
       "      <td>0</td>\n",
       "      <td>0</td>\n",
       "      <td>0</td>\n",
       "      <td>0</td>\n",
       "      <td>0</td>\n",
       "      <td>0</td>\n",
       "    </tr>\n",
       "    <tr>\n",
       "      <th>4</th>\n",
       "      <td>-0.016376</td>\n",
       "      <td>-0.545356</td>\n",
       "      <td>-0.089799</td>\n",
       "      <td>-0.341387</td>\n",
       "      <td>1</td>\n",
       "      <td>0</td>\n",
       "      <td>0</td>\n",
       "      <td>0</td>\n",
       "      <td>0</td>\n",
       "      <td>0</td>\n",
       "      <td>...</td>\n",
       "      <td>0</td>\n",
       "      <td>0</td>\n",
       "      <td>0</td>\n",
       "      <td>0</td>\n",
       "      <td>0</td>\n",
       "      <td>0</td>\n",
       "      <td>0</td>\n",
       "      <td>0</td>\n",
       "      <td>0</td>\n",
       "      <td>0</td>\n",
       "    </tr>\n",
       "  </tbody>\n",
       "</table>\n",
       "<p>5 rows × 124 columns</p>\n",
       "</div>"
      ],
      "text/plain": [
       "        bhk      area  price_per_sqft  price_lakhs  type_Apartment  \\\n",
       "0  1.067343 -0.506566        2.290572     0.374808               1   \n",
       "1 -0.016376 -0.573703       -0.740838    -0.532508               1   \n",
       "2 -0.016376 -0.618461        1.418844     0.021052               1   \n",
       "3 -0.016376 -0.221607       -0.886309    -0.498189               1   \n",
       "4 -0.016376 -0.545356       -0.089799    -0.341387               1   \n",
       "\n",
       "   type_Independent House  type_Penthouse  type_Studio Apartment  type_Villa  \\\n",
       "0                       0               0                      0           0   \n",
       "1                       0               0                      0           0   \n",
       "2                       0               0                      0           0   \n",
       "3                       0               0                      0           0   \n",
       "4                       0               0                      0           0   \n",
       "\n",
       "   region_Agripada  ...  region_Vasai  region_Vashi  region_Vikhroli  \\\n",
       "0                0  ...             0             0                0   \n",
       "1                0  ...             0             0                0   \n",
       "2                0  ...             0             0                0   \n",
       "3                0  ...             0             0                0   \n",
       "4                0  ...             0             0                0   \n",
       "\n",
       "   region_Ville Parle East  region_Ville Parle West  region_Virar  \\\n",
       "0                        0                        0             0   \n",
       "1                        0                        0             0   \n",
       "2                        0                        0             0   \n",
       "3                        0                        0             0   \n",
       "4                        0                        0             0   \n",
       "\n",
       "   region_Virar West  region_Wadala  region_Worli  region_other  \n",
       "0                  0              0             0             0  \n",
       "1                  0              0             0             0  \n",
       "2                  0              0             0             0  \n",
       "3                  0              0             0             0  \n",
       "4                  0              0             0             0  \n",
       "\n",
       "[5 rows x 124 columns]"
      ]
     },
     "execution_count": 35,
     "metadata": {},
     "output_type": "execute_result"
    }
   ],
   "source": [
    "df_encoded.head()"
   ]
  },
  {
   "cell_type": "code",
   "execution_count": 36,
   "id": "e7061c47",
   "metadata": {
    "execution": {
     "iopub.execute_input": "2023-08-15T14:49:41.620229Z",
     "iopub.status.busy": "2023-08-15T14:49:41.619789Z",
     "iopub.status.idle": "2023-08-15T14:49:41.627963Z",
     "shell.execute_reply": "2023-08-15T14:49:41.626802Z"
    },
    "papermill": {
     "duration": 0.044195,
     "end_time": "2023-08-15T14:49:41.630433",
     "exception": false,
     "start_time": "2023-08-15T14:49:41.586238",
     "status": "completed"
    },
    "tags": []
   },
   "outputs": [
    {
     "data": {
      "text/plain": [
       "(76038, 124)"
      ]
     },
     "execution_count": 36,
     "metadata": {},
     "output_type": "execute_result"
    }
   ],
   "source": [
    "df_encoded.shape"
   ]
  },
  {
   "cell_type": "markdown",
   "id": "1fdf23aa",
   "metadata": {
    "papermill": {
     "duration": 0.031617,
     "end_time": "2023-08-15T14:49:41.693450",
     "exception": false,
     "start_time": "2023-08-15T14:49:41.661833",
     "status": "completed"
    },
    "tags": []
   },
   "source": [
    "<h3> Preparing to model the data"
   ]
  },
  {
   "cell_type": "code",
   "execution_count": 37,
   "id": "a6c696ad",
   "metadata": {
    "execution": {
     "iopub.execute_input": "2023-08-15T14:49:41.759260Z",
     "iopub.status.busy": "2023-08-15T14:49:41.758067Z",
     "iopub.status.idle": "2023-08-15T14:49:41.786539Z",
     "shell.execute_reply": "2023-08-15T14:49:41.785435Z"
    },
    "papermill": {
     "duration": 0.064538,
     "end_time": "2023-08-15T14:49:41.789164",
     "exception": false,
     "start_time": "2023-08-15T14:49:41.724626",
     "status": "completed"
    },
    "tags": []
   },
   "outputs": [],
   "source": [
    "X = df_encoded.drop('price_lakhs', axis=1)\n",
    "y = log_transform_y"
   ]
  },
  {
   "cell_type": "markdown",
   "id": "34a73944",
   "metadata": {
    "papermill": {
     "duration": 0.031168,
     "end_time": "2023-08-15T14:49:41.851797",
     "exception": false,
     "start_time": "2023-08-15T14:49:41.820629",
     "status": "completed"
    },
    "tags": []
   },
   "source": [
    "<h3> Fitting OLS model for interpretation"
   ]
  },
  {
   "cell_type": "code",
   "execution_count": 38,
   "id": "900d38a1",
   "metadata": {
    "execution": {
     "iopub.execute_input": "2023-08-15T14:49:41.915720Z",
     "iopub.status.busy": "2023-08-15T14:49:41.915291Z",
     "iopub.status.idle": "2023-08-15T14:49:43.539418Z",
     "shell.execute_reply": "2023-08-15T14:49:43.538298Z"
    },
    "papermill": {
     "duration": 1.659741,
     "end_time": "2023-08-15T14:49:43.542804",
     "exception": false,
     "start_time": "2023-08-15T14:49:41.883063",
     "status": "completed"
    },
    "tags": []
   },
   "outputs": [
    {
     "name": "stdout",
     "output_type": "stream",
     "text": [
      "                            OLS Regression Results                            \n",
      "==============================================================================\n",
      "Dep. Variable:            price_lakhs   R-squared:                       0.946\n",
      "Model:                            OLS   Adj. R-squared:                  0.946\n",
      "Method:                 Least Squares   F-statistic:                 1.105e+04\n",
      "Date:                Tue, 15 Aug 2023   Prob (F-statistic):               0.00\n",
      "Time:                        14:49:43   Log-Likelihood:                 16317.\n",
      "No. Observations:               76038   AIC:                        -3.239e+04\n",
      "Df Residuals:                   75916   BIC:                        -3.126e+04\n",
      "Df Model:                         121                                         \n",
      "Covariance Type:            nonrobust                                         \n",
      "===============================================================================================\n",
      "                                  coef    std err          t      P>|t|      [0.025      0.975]\n",
      "-----------------------------------------------------------------------------------------------\n",
      "const                           3.7653      0.019    194.852      0.000       3.727       3.803\n",
      "bhk                             0.2353      0.001    184.418      0.000       0.233       0.238\n",
      "area                            0.2573      0.001    204.990      0.000       0.255       0.260\n",
      "price_per_sqft                  0.3635      0.001    280.005      0.000       0.361       0.366\n",
      "type_Apartment                  0.8596      0.019     44.235      0.000       0.822       0.898\n",
      "type_Independent House          0.7730      0.027     28.668      0.000       0.720       0.826\n",
      "type_Penthouse                  0.9730      0.094     10.332      0.000       0.788       1.158\n",
      "type_Studio Apartment           0.3987      0.020     19.750      0.000       0.359       0.438\n",
      "type_Villa                      0.7609      0.022     34.057      0.000       0.717       0.805\n",
      "region_Agripada                 0.4284      0.025     17.166      0.000       0.380       0.477\n",
      "region_Airoli                   0.2334      0.012     20.243      0.000       0.211       0.256\n",
      "region_Ambarnath               -0.5999      0.038    -15.745      0.000      -0.675      -0.525\n",
      "region_Ambernath East          -0.4584      0.008    -55.385      0.000      -0.475      -0.442\n",
      "region_Ambernath West          -0.4866      0.011    -42.768      0.000      -0.509      -0.464\n",
      "region_Andheri East             0.3589      0.006     57.270      0.000       0.347       0.371\n",
      "region_Andheri West             0.1696      0.005     33.703      0.000       0.160       0.179\n",
      "region_Anjurdive               -0.0659      0.014     -4.710      0.000      -0.093      -0.038\n",
      "region_Badlapur East           -0.5517      0.009    -60.605      0.000      -0.570      -0.534\n",
      "region_Badlapur West           -0.6282      0.011    -55.933      0.000      -0.650      -0.606\n",
      "region_Bandra East              0.2236      0.012     18.049      0.000       0.199       0.248\n",
      "region_Bandra Kurla Complex     0.2833      0.023     12.302      0.000       0.238       0.328\n",
      "region_Bandra West              0.1292      0.014      9.554      0.000       0.103       0.156\n",
      "region_Belapur                  0.3753      0.034     11.105      0.000       0.309       0.442\n",
      "region_Bhandup East             0.0873      0.018      4.813      0.000       0.052       0.123\n",
      "region_Bhandup West             0.2233      0.008     26.633      0.000       0.207       0.240\n",
      "region_Bhayandar East           0.1371      0.008     17.563      0.000       0.122       0.152\n",
      "region_Bhayandar West           0.2707      0.019     14.207      0.000       0.233       0.308\n",
      "region_Bhiwandi                -0.3304      0.008    -40.073      0.000      -0.347      -0.314\n",
      "region_Boisar                  -0.7962      0.015    -53.291      0.000      -0.825      -0.767\n",
      "region_Borivali East            0.3008      0.006     47.188      0.000       0.288       0.313\n",
      "region_Borivali West            0.3288      0.007     47.808      0.000       0.315       0.342\n",
      "region_Byculla                  0.3064      0.012     26.505      0.000       0.284       0.329\n",
      "region_Chembur                  0.3093      0.006     56.097      0.000       0.299       0.320\n",
      "region_Colaba                   0.1280      0.038      3.409      0.001       0.054       0.202\n",
      "region_Dadar East               0.3101      0.019     16.615      0.000       0.273       0.347\n",
      "region_Dadar West               0.2423      0.020     12.134      0.000       0.203       0.281\n",
      "region_Dahisar                  0.2040      0.007     27.565      0.000       0.189       0.218\n",
      "region_Deonar                   0.3651      0.018     20.137      0.000       0.330       0.401\n",
      "region_Diva                    -0.3573      0.028    -12.719      0.000      -0.412      -0.302\n",
      "region_Dombivali               -0.1981      0.004    -45.170      0.000      -0.207      -0.189\n",
      "region_Dombivali East          -0.2925      0.042     -6.906      0.000      -0.376      -0.210\n",
      "region_Dronagiri               -0.2364      0.020    -11.548      0.000      -0.277      -0.196\n",
      "region_Ghansoli                 0.3312      0.010     32.044      0.000       0.311       0.352\n",
      "region_Ghatkopar East           0.2757      0.007     40.535      0.000       0.262       0.289\n",
      "region_Ghatkopar West           0.3819      0.015     26.309      0.000       0.353       0.410\n",
      "region_Girgaon                  0.3579      0.031     11.507      0.000       0.297       0.419\n",
      "region_Goregaon East            0.2946      0.008     36.545      0.000       0.279       0.310\n",
      "region_Goregaon West            0.3285      0.007     47.340      0.000       0.315       0.342\n",
      "region_Jogeshwari East          0.2698      0.015     17.759      0.000       0.240       0.300\n",
      "region_Jogeshwari West          0.2974      0.009     31.412      0.000       0.279       0.316\n",
      "region_Juhu                     0.0545      0.017      3.202      0.001       0.021       0.088\n",
      "region_Juinagar                 0.3353      0.040      8.466      0.000       0.258       0.413\n",
      "region_Kalamboli                0.0280      0.013      2.099      0.036       0.002       0.054\n",
      "region_Kalwa                   -0.0338      0.050     -0.675      0.499      -0.132       0.064\n",
      "region_Kalyan East             -0.2927      0.011    -26.850      0.000      -0.314      -0.271\n",
      "region_Kalyan West             -0.1142      0.005    -21.812      0.000      -0.124      -0.104\n",
      "region_Kamothe                  0.0710      0.008      8.682      0.000       0.055       0.087\n",
      "region_Kandivali East           0.3071      0.004     70.240      0.000       0.299       0.316\n",
      "region_Kandivali West           0.2832      0.006     51.322      0.000       0.272       0.294\n",
      "region_Kanjurmarg               0.3168      0.006     55.363      0.000       0.306       0.328\n",
      "region_Karanjade               -0.1239      0.014     -8.804      0.000      -0.152      -0.096\n",
      "region_Karjat                  -0.6437      0.010    -67.477      0.000      -0.662      -0.625\n",
      "region_Kasheli                 -0.6041      0.047    -12.834      0.000      -0.696      -0.512\n",
      "region_Khar                     0.1673      0.022      7.485      0.000       0.124       0.211\n",
      "region_Kharghar                 0.1946      0.005     41.932      0.000       0.186       0.204\n",
      "region_Khopoli                 -0.4174      0.023    -18.152      0.000      -0.462      -0.372\n",
      "region_Koper Khairane           0.2679      0.012     22.951      0.000       0.245       0.291\n",
      "region_Kurla                    0.2714      0.011     25.331      0.000       0.250       0.292\n",
      "region_Lower Parel              0.1952      0.011     17.175      0.000       0.173       0.217\n",
      "region_Mahalaxmi                0.1828      0.018     10.424      0.000       0.148       0.217\n",
      "region_Mahim                    0.1621      0.025      6.381      0.000       0.112       0.212\n",
      "region_Malad East               0.3079      0.007     44.621      0.000       0.294       0.321\n",
      "region_Malad West               0.3038      0.006     52.623      0.000       0.293       0.315\n",
      "region_Marine Lines             0.2374      0.030      7.970      0.000       0.179       0.296\n",
      "region_Matunga                  0.3409      0.021     16.180      0.000       0.300       0.382\n",
      "region_Mazagaon                 0.4220      0.028     15.179      0.000       0.368       0.477\n",
      "region_Mazgaon                  0.3611      0.048      7.445      0.000       0.266       0.456\n",
      "region_Mira Road East           0.0930      0.003     29.981      0.000       0.087       0.099\n",
      "region_Mulund East              0.3682      0.013     27.707      0.000       0.342       0.394\n",
      "region_Mulund West              0.3176      0.005     58.733      0.000       0.307       0.328\n",
      "region_Nahur East               0.3986      0.021     18.761      0.000       0.357       0.440\n",
      "region_Naigaon East            -0.3533      0.007    -49.159      0.000      -0.367      -0.339\n",
      "region_Nala Sopara             -0.4886      0.011    -44.161      0.000      -0.510      -0.467\n",
      "region_Nalasopara East         -0.4008      0.050     -8.000      0.000      -0.499      -0.303\n",
      "region_Napeansea Road          -0.1871      0.045     -4.173      0.000      -0.275      -0.099\n",
      "region_Neral                   -0.6345      0.013    -49.581      0.000      -0.660      -0.609\n",
      "region_Nerul                    0.3602      0.013     27.198      0.000       0.334       0.386\n",
      "region_Nilje Gaon              -0.3145      0.037     -8.413      0.000      -0.388      -0.241\n",
      "region_Palghar                 -0.7800      0.015    -50.459      0.000      -0.810      -0.750\n",
      "region_Panvel                  -0.0416      0.006     -7.414      0.000      -0.053      -0.031\n",
      "region_Parel                    0.3191      0.014     22.580      0.000       0.291       0.347\n",
      "region_Patlipada                0.3898      0.047      8.284      0.000       0.298       0.482\n",
      "region_Powai                    0.3919      0.006     69.642      0.000       0.381       0.403\n",
      "region_Prabhadevi               0.1435      0.016      9.006      0.000       0.112       0.175\n",
      "region_Rasayani                -0.5111      0.025    -20.815      0.000      -0.559      -0.463\n",
      "region_Sanpada                  0.3541      0.013     27.175      0.000       0.329       0.380\n",
      "region_Santacruz East           0.3413      0.010     35.588      0.000       0.323       0.360\n",
      "region_Santacruz West           0.1248      0.017      7.301      0.000       0.091       0.158\n",
      "region_Saphale                 -0.7140      0.056    -12.748      0.000      -0.824      -0.604\n",
      "region_Seawoods                 0.3652      0.011     34.494      0.000       0.344       0.386\n",
      "region_Sector 21 Kamothe        0.1932      0.048      3.985      0.000       0.098       0.288\n",
      "region_Sewri                    0.2537      0.026      9.743      0.000       0.203       0.305\n",
      "region_Shil Phata              -0.1648      0.013    -12.270      0.000      -0.191      -0.138\n",
      "region_Sion                     0.2973      0.011     27.636      0.000       0.276       0.318\n",
      "region_Taloja                  -0.2583      0.007    -36.715      0.000      -0.272      -0.245\n",
      "region_Taloje                  -0.3156      0.046     -6.900      0.000      -0.405      -0.226\n",
      "region_Tardeo                   0.1673      0.041      4.114      0.000       0.088       0.247\n",
      "region_Thane East               0.1253      0.015      8.436      0.000       0.096       0.154\n",
      "region_Thane West               0.2106      0.003     76.244      0.000       0.205       0.216\n",
      "region_Titwala                 -0.4764      0.019    -25.719      0.000      -0.513      -0.440\n",
      "region_Ulhasnagar              -0.1307      0.031     -4.200      0.000      -0.192      -0.070\n",
      "region_Ulwe                     0.0206      0.006      3.606      0.000       0.009       0.032\n",
      "region_Umroli                  -0.9753      0.039    -25.094      0.000      -1.051      -0.899\n",
      "region_Vangani                 -0.6770      0.054    -12.584      0.000      -0.782      -0.572\n",
      "region_Vasai                   -0.2526      0.008    -30.097      0.000      -0.269      -0.236\n",
      "region_Vashi                    0.3548      0.020     17.843      0.000       0.316       0.394\n",
      "region_Vikhroli                 0.1806      0.007     27.553      0.000       0.168       0.193\n",
      "region_Ville Parle East         0.3673      0.018     20.414      0.000       0.332       0.403\n",
      "region_Ville Parle West         0.1766      0.022      8.152      0.000       0.134       0.219\n",
      "region_Virar                   -0.3615      0.006    -64.441      0.000      -0.372      -0.350\n",
      "region_Virar West              -0.4796      0.045    -10.768      0.000      -0.567      -0.392\n",
      "region_Wadala                   0.3814      0.007     54.569      0.000       0.368       0.395\n",
      "region_Worli                    0.1057      0.014      7.666      0.000       0.079       0.133\n",
      "region_other                   -0.0502      0.011     -4.610      0.000      -0.072      -0.029\n",
      "==============================================================================\n",
      "Omnibus:                    46432.343   Durbin-Watson:                   1.305\n",
      "Prob(Omnibus):                  0.000   Jarque-Bera (JB):          2172929.745\n",
      "Skew:                          -2.293   Prob(JB):                         0.00\n",
      "Kurtosis:                      28.784   Cond. No.                     2.33e+15\n",
      "==============================================================================\n",
      "\n",
      "Notes:\n",
      "[1] Standard Errors assume that the covariance matrix of the errors is correctly specified.\n",
      "[2] The smallest eigenvalue is 2.86e-26. This might indicate that there are\n",
      "strong multicollinearity problems or that the design matrix is singular.\n"
     ]
    }
   ],
   "source": [
    "# Add a constant to the X_scaled matrix for intercept term\n",
    "X_scaled = sm.add_constant(X)\n",
    "\n",
    "model = sm.OLS(y, X_scaled).fit()\n",
    "\n",
    "print(model.summary())"
   ]
  },
  {
   "cell_type": "markdown",
   "id": "98a336b9",
   "metadata": {
    "papermill": {
     "duration": 0.031556,
     "end_time": "2023-08-15T14:49:43.605963",
     "exception": false,
     "start_time": "2023-08-15T14:49:43.574407",
     "status": "completed"
    },
    "tags": []
   },
   "source": [
    "According to the R-squared, 87.9% of the variance in the dependent variable is explained by the model. Initial Rsquared was 87.9%, it increased as i log transformed the response variable"
   ]
  },
  {
   "cell_type": "markdown",
   "id": "b8177b63",
   "metadata": {
    "papermill": {
     "duration": 0.03305,
     "end_time": "2023-08-15T14:49:43.672761",
     "exception": false,
     "start_time": "2023-08-15T14:49:43.639711",
     "status": "completed"
    },
    "tags": []
   },
   "source": [
    "<h3> Train-Test Split"
   ]
  },
  {
   "cell_type": "code",
   "execution_count": 39,
   "id": "07611c16",
   "metadata": {
    "execution": {
     "iopub.execute_input": "2023-08-15T14:49:43.739283Z",
     "iopub.status.busy": "2023-08-15T14:49:43.738489Z",
     "iopub.status.idle": "2023-08-15T14:49:43.829142Z",
     "shell.execute_reply": "2023-08-15T14:49:43.827685Z"
    },
    "papermill": {
     "duration": 0.127745,
     "end_time": "2023-08-15T14:49:43.832102",
     "exception": false,
     "start_time": "2023-08-15T14:49:43.704357",
     "status": "completed"
    },
    "tags": []
   },
   "outputs": [],
   "source": [
    "X_train,X_test,y_train,y_test = train_test_split(X,y,test_size=0.2,random_state=10)"
   ]
  },
  {
   "cell_type": "markdown",
   "id": "e25ff76c",
   "metadata": {
    "papermill": {
     "duration": 0.032922,
     "end_time": "2023-08-15T14:49:43.898674",
     "exception": false,
     "start_time": "2023-08-15T14:49:43.865752",
     "status": "completed"
    },
    "tags": []
   },
   "source": [
    "<h3>Fitting the model"
   ]
  },
  {
   "cell_type": "code",
   "execution_count": 40,
   "id": "2f84209d",
   "metadata": {
    "execution": {
     "iopub.execute_input": "2023-08-15T14:49:43.965730Z",
     "iopub.status.busy": "2023-08-15T14:49:43.965289Z",
     "iopub.status.idle": "2023-08-15T14:49:44.743061Z",
     "shell.execute_reply": "2023-08-15T14:49:44.741487Z"
    },
    "papermill": {
     "duration": 0.815841,
     "end_time": "2023-08-15T14:49:44.747994",
     "exception": false,
     "start_time": "2023-08-15T14:49:43.932153",
     "status": "completed"
    },
    "tags": []
   },
   "outputs": [
    {
     "data": {
      "text/plain": [
       "0.9473841193715345"
      ]
     },
     "execution_count": 40,
     "metadata": {},
     "output_type": "execute_result"
    }
   ],
   "source": [
    "lr = LinearRegression()\n",
    "lr.fit(X_train, y_train)\n",
    "\n",
    "y_pred = lr.predict(X_test)\n",
    "\n",
    "lr.score(X_test,y_test)"
   ]
  },
  {
   "cell_type": "markdown",
   "id": "cc4a2bfb",
   "metadata": {
    "papermill": {
     "duration": 0.054002,
     "end_time": "2023-08-15T14:49:44.876276",
     "exception": false,
     "start_time": "2023-08-15T14:49:44.822274",
     "status": "completed"
    },
    "tags": []
   },
   "source": [
    "<h2> Evaluating the Model Predictions"
   ]
  },
  {
   "cell_type": "code",
   "execution_count": 41,
   "id": "7276b2dd",
   "metadata": {
    "execution": {
     "iopub.execute_input": "2023-08-15T14:49:44.943913Z",
     "iopub.status.busy": "2023-08-15T14:49:44.943524Z",
     "iopub.status.idle": "2023-08-15T14:49:44.959380Z",
     "shell.execute_reply": "2023-08-15T14:49:44.958446Z"
    },
    "papermill": {
     "duration": 0.052233,
     "end_time": "2023-08-15T14:49:44.961685",
     "exception": false,
     "start_time": "2023-08-15T14:49:44.909452",
     "status": "completed"
    },
    "tags": []
   },
   "outputs": [
    {
     "data": {
      "text/html": [
       "<div>\n",
       "<style scoped>\n",
       "    .dataframe tbody tr th:only-of-type {\n",
       "        vertical-align: middle;\n",
       "    }\n",
       "\n",
       "    .dataframe tbody tr th {\n",
       "        vertical-align: top;\n",
       "    }\n",
       "\n",
       "    .dataframe thead th {\n",
       "        text-align: right;\n",
       "    }\n",
       "</style>\n",
       "<table border=\"1\" class=\"dataframe\">\n",
       "  <thead>\n",
       "    <tr style=\"text-align: right;\">\n",
       "      <th></th>\n",
       "      <th>Actual</th>\n",
       "      <th>Predicted</th>\n",
       "    </tr>\n",
       "  </thead>\n",
       "  <tbody>\n",
       "    <tr>\n",
       "      <th>7625</th>\n",
       "      <td>5.11</td>\n",
       "      <td>4.83</td>\n",
       "    </tr>\n",
       "    <tr>\n",
       "      <th>75492</th>\n",
       "      <td>4.32</td>\n",
       "      <td>4.12</td>\n",
       "    </tr>\n",
       "    <tr>\n",
       "      <th>66504</th>\n",
       "      <td>3.50</td>\n",
       "      <td>3.47</td>\n",
       "    </tr>\n",
       "    <tr>\n",
       "      <th>52577</th>\n",
       "      <td>4.61</td>\n",
       "      <td>4.70</td>\n",
       "    </tr>\n",
       "    <tr>\n",
       "      <th>38830</th>\n",
       "      <td>6.23</td>\n",
       "      <td>6.28</td>\n",
       "    </tr>\n",
       "    <tr>\n",
       "      <th>31203</th>\n",
       "      <td>4.99</td>\n",
       "      <td>4.99</td>\n",
       "    </tr>\n",
       "    <tr>\n",
       "      <th>54570</th>\n",
       "      <td>3.78</td>\n",
       "      <td>3.61</td>\n",
       "    </tr>\n",
       "    <tr>\n",
       "      <th>18291</th>\n",
       "      <td>5.24</td>\n",
       "      <td>5.03</td>\n",
       "    </tr>\n",
       "    <tr>\n",
       "      <th>6758</th>\n",
       "      <td>4.33</td>\n",
       "      <td>4.46</td>\n",
       "    </tr>\n",
       "    <tr>\n",
       "      <th>38694</th>\n",
       "      <td>4.04</td>\n",
       "      <td>4.33</td>\n",
       "    </tr>\n",
       "  </tbody>\n",
       "</table>\n",
       "</div>"
      ],
      "text/plain": [
       "       Actual  Predicted\n",
       "7625     5.11       4.83\n",
       "75492    4.32       4.12\n",
       "66504    3.50       3.47\n",
       "52577    4.61       4.70\n",
       "38830    6.23       6.28\n",
       "31203    4.99       4.99\n",
       "54570    3.78       3.61\n",
       "18291    5.24       5.03\n",
       "6758     4.33       4.46\n",
       "38694    4.04       4.33"
      ]
     },
     "execution_count": 41,
     "metadata": {},
     "output_type": "execute_result"
    }
   ],
   "source": [
    "df = pd.DataFrame({'Actual': np.round(y_test, 2), \n",
    "                   'Predicted': np.round(y_pred, 2)})\n",
    "df.head(10)"
   ]
  },
  {
   "cell_type": "markdown",
   "id": "c5f832ed",
   "metadata": {
    "papermill": {
     "duration": 0.032067,
     "end_time": "2023-08-15T14:49:45.025561",
     "exception": false,
     "start_time": "2023-08-15T14:49:44.993494",
     "status": "completed"
    },
    "tags": []
   },
   "source": [
    "<h3> Residual Analysis"
   ]
  },
  {
   "cell_type": "code",
   "execution_count": 42,
   "id": "006e9d00",
   "metadata": {
    "execution": {
     "iopub.execute_input": "2023-08-15T14:49:45.092390Z",
     "iopub.status.busy": "2023-08-15T14:49:45.091922Z",
     "iopub.status.idle": "2023-08-15T14:49:45.542981Z",
     "shell.execute_reply": "2023-08-15T14:49:45.541990Z"
    },
    "papermill": {
     "duration": 0.487489,
     "end_time": "2023-08-15T14:49:45.545821",
     "exception": false,
     "start_time": "2023-08-15T14:49:45.058332",
     "status": "completed"
    },
    "tags": []
   },
   "outputs": [
    {
     "data": {
      "image/png": "[encoded data removed]",
      "text/plain": [
       "<Figure size 2000x1000 with 1 Axes>"
      ]
     },
     "metadata": {},
     "output_type": "display_data"
    }
   ],
   "source": [
    "residuals = y_pred - y_test\n",
    "\n",
    "plt.scatter(y_pred, residuals)\n",
    "plt.axhline(y=0, color='r', linestyle='--')\n",
    "plt.xlabel('Predicted Values')\n",
    "plt.ylabel('Residuals')\n",
    "plt.title('Residual Plot')\n",
    "plt.show()\n"
   ]
  },
  {
   "cell_type": "markdown",
   "id": "da9a7984",
   "metadata": {
    "papermill": {
     "duration": 0.035305,
     "end_time": "2023-08-15T14:49:45.616363",
     "exception": false,
     "start_time": "2023-08-15T14:49:45.581058",
     "status": "completed"
    },
    "tags": []
   },
   "source": [
    "The residual plot indicates presence of outliers in the data"
   ]
  },
  {
   "cell_type": "code",
   "execution_count": 43,
   "id": "17ed4e65",
   "metadata": {
    "execution": {
     "iopub.execute_input": "2023-08-15T14:49:45.705129Z",
     "iopub.status.busy": "2023-08-15T14:49:45.703869Z",
     "iopub.status.idle": "2023-08-15T14:49:46.154172Z",
     "shell.execute_reply": "2023-08-15T14:49:46.152737Z"
    },
    "papermill": {
     "duration": 0.502834,
     "end_time": "2023-08-15T14:49:46.157686",
     "exception": false,
     "start_time": "2023-08-15T14:49:45.654852",
     "status": "completed"
    },
    "tags": []
   },
   "outputs": [
    {
     "data": {
      "text/plain": [
       "<matplotlib.collections.PathCollection at 0x7af40a267460>"
      ]
     },
     "execution_count": 43,
     "metadata": {},
     "output_type": "execute_result"
    },
    {
     "data": {
      "image/png": "[encoded data removed]",
      "text/plain": [
       "<Figure size 2000x1000 with 1 Axes>"
      ]
     },
     "metadata": {},
     "output_type": "display_data"
    }
   ],
   "source": [
    "plt.scatter(y_test, y_pred)"
   ]
  },
  {
   "cell_type": "markdown",
   "id": "080537c9",
   "metadata": {
    "papermill": {
     "duration": 0.035133,
     "end_time": "2023-08-15T14:49:46.228445",
     "exception": false,
     "start_time": "2023-08-15T14:49:46.193312",
     "status": "completed"
    },
    "tags": []
   },
   "source": [
    "Since the points cluster around the diagonal line, it indicates that the model is making reasonably accurate predictions. This is further supported by the distribution plot where the residuals are centered around 0."
   ]
  },
  {
   "cell_type": "code",
   "execution_count": 44,
   "id": "94a8675f",
   "metadata": {
    "execution": {
     "iopub.execute_input": "2023-08-15T14:49:46.300614Z",
     "iopub.status.busy": "2023-08-15T14:49:46.300180Z",
     "iopub.status.idle": "2023-08-15T14:49:46.980685Z",
     "shell.execute_reply": "2023-08-15T14:49:46.979293Z"
    },
    "papermill": {
     "duration": 0.719896,
     "end_time": "2023-08-15T14:49:46.983388",
     "exception": false,
     "start_time": "2023-08-15T14:49:46.263492",
     "status": "completed"
    },
    "tags": []
   },
   "outputs": [
    {
     "name": "stderr",
     "output_type": "stream",
     "text": [
      "/tmp/ipykernel_20/681184782.py:1: UserWarning: \n",
      "\n",
      "`distplot` is a deprecated function and will be removed in seaborn v0.14.0.\n",
      "\n",
      "Please adapt your code to use either `displot` (a figure-level function with\n",
      "similar flexibility) or `histplot` (an axes-level function for histograms).\n",
      "\n",
      "For a guide to updating your code to use the new functions, please see\n",
      "https://gist.github.com/mwaskom/de44147ed2974457ad6372750bbe5751\n",
      "\n",
      "  sns.distplot((y_test - y_pred))\n"
     ]
    },
    {
     "data": {
      "text/plain": [
       "<Axes: xlabel='price_lakhs', ylabel='Density'>"
      ]
     },
     "execution_count": 44,
     "metadata": {},
     "output_type": "execute_result"
    },
    {
     "data": {
      "image/png": "[encoded data removed]",
      "text/plain": [
       "<Figure size 2000x1000 with 1 Axes>"
      ]
     },
     "metadata": {},
     "output_type": "display_data"
    }
   ],
   "source": [
    "sns.distplot((y_test - y_pred))"
   ]
  },
  {
   "cell_type": "markdown",
   "id": "24df081a",
   "metadata": {
    "papermill": {
     "duration": 0.037563,
     "end_time": "2023-08-15T14:49:47.057650",
     "exception": false,
     "start_time": "2023-08-15T14:49:47.020087",
     "status": "completed"
    },
    "tags": []
   },
   "source": [
    "Let us see the coefficients of our predictors"
   ]
  },
  {
   "cell_type": "code",
   "execution_count": 45,
   "id": "191dda00",
   "metadata": {
    "execution": {
     "iopub.execute_input": "2023-08-15T14:49:47.133847Z",
     "iopub.status.busy": "2023-08-15T14:49:47.133407Z",
     "iopub.status.idle": "2023-08-15T14:49:47.146772Z",
     "shell.execute_reply": "2023-08-15T14:49:47.145869Z"
    },
    "papermill": {
     "duration": 0.054309,
     "end_time": "2023-08-15T14:49:47.148967",
     "exception": false,
     "start_time": "2023-08-15T14:49:47.094658",
     "status": "completed"
    },
    "tags": []
   },
   "outputs": [
    {
     "data": {
      "text/html": [
       "<div>\n",
       "<style scoped>\n",
       "    .dataframe tbody tr th:only-of-type {\n",
       "        vertical-align: middle;\n",
       "    }\n",
       "\n",
       "    .dataframe tbody tr th {\n",
       "        vertical-align: top;\n",
       "    }\n",
       "\n",
       "    .dataframe thead th {\n",
       "        text-align: right;\n",
       "    }\n",
       "</style>\n",
       "<table border=\"1\" class=\"dataframe\">\n",
       "  <thead>\n",
       "    <tr style=\"text-align: right;\">\n",
       "      <th></th>\n",
       "      <th>Coefficients</th>\n",
       "    </tr>\n",
       "  </thead>\n",
       "  <tbody>\n",
       "    <tr>\n",
       "      <th>bhk</th>\n",
       "      <td>2.370324e-01</td>\n",
       "    </tr>\n",
       "    <tr>\n",
       "      <th>area</th>\n",
       "      <td>2.555575e-01</td>\n",
       "    </tr>\n",
       "    <tr>\n",
       "      <th>price_per_sqft</th>\n",
       "      <td>3.597419e-01</td>\n",
       "    </tr>\n",
       "    <tr>\n",
       "      <th>type_Apartment</th>\n",
       "      <td>1.577026e+11</td>\n",
       "    </tr>\n",
       "    <tr>\n",
       "      <th>type_Independent House</th>\n",
       "      <td>1.577026e+11</td>\n",
       "    </tr>\n",
       "    <tr>\n",
       "      <th>...</th>\n",
       "      <td>...</td>\n",
       "    </tr>\n",
       "    <tr>\n",
       "      <th>region_Virar</th>\n",
       "      <td>-2.702540e+10</td>\n",
       "    </tr>\n",
       "    <tr>\n",
       "      <th>region_Virar West</th>\n",
       "      <td>-2.702540e+10</td>\n",
       "    </tr>\n",
       "    <tr>\n",
       "      <th>region_Wadala</th>\n",
       "      <td>-2.702540e+10</td>\n",
       "    </tr>\n",
       "    <tr>\n",
       "      <th>region_Worli</th>\n",
       "      <td>-2.702540e+10</td>\n",
       "    </tr>\n",
       "    <tr>\n",
       "      <th>region_other</th>\n",
       "      <td>-2.702540e+10</td>\n",
       "    </tr>\n",
       "  </tbody>\n",
       "</table>\n",
       "<p>123 rows × 1 columns</p>\n",
       "</div>"
      ],
      "text/plain": [
       "                        Coefficients\n",
       "bhk                     2.370324e-01\n",
       "area                    2.555575e-01\n",
       "price_per_sqft          3.597419e-01\n",
       "type_Apartment          1.577026e+11\n",
       "type_Independent House  1.577026e+11\n",
       "...                              ...\n",
       "region_Virar           -2.702540e+10\n",
       "region_Virar West      -2.702540e+10\n",
       "region_Wadala          -2.702540e+10\n",
       "region_Worli           -2.702540e+10\n",
       "region_other           -2.702540e+10\n",
       "\n",
       "[123 rows x 1 columns]"
      ]
     },
     "execution_count": 45,
     "metadata": {},
     "output_type": "execute_result"
    }
   ],
   "source": [
    "cdf = pd.DataFrame(data = lr.coef_, index = X.columns, columns = ['Coefficients'])\n",
    "cdf"
   ]
  },
  {
   "cell_type": "markdown",
   "id": "c4d4a2a0",
   "metadata": {
    "papermill": {
     "duration": 0.03659,
     "end_time": "2023-08-15T14:49:47.221871",
     "exception": false,
     "start_time": "2023-08-15T14:49:47.185281",
     "status": "completed"
    },
    "tags": []
   },
   "source": [
    "<h3>Further Evaluating the model using RMSE and R2"
   ]
  },
  {
   "cell_type": "code",
   "execution_count": 46,
   "id": "b1b309ef",
   "metadata": {
    "execution": {
     "iopub.execute_input": "2023-08-15T14:49:47.298186Z",
     "iopub.status.busy": "2023-08-15T14:49:47.297408Z",
     "iopub.status.idle": "2023-08-15T14:49:47.386420Z",
     "shell.execute_reply": "2023-08-15T14:49:47.384264Z"
    },
    "papermill": {
     "duration": 0.133383,
     "end_time": "2023-08-15T14:49:47.392387",
     "exception": false,
     "start_time": "2023-08-15T14:49:47.259004",
     "status": "completed"
    },
    "tags": []
   },
   "outputs": [
    {
     "name": "stdout",
     "output_type": "stream",
     "text": [
      "Price mean: 4.74\n",
      "Price std: 0.84\n",
      "RMSE: 0.19\n",
      "R2 score train: 0.95\n",
      "R2 score test: 0.95\n"
     ]
    }
   ],
   "source": [
    "print('Price mean:', np.round(np.mean(y), 2))  \n",
    "print('Price std:', np.round(np.std(y), 2))\n",
    "print('RMSE:', np.round(np.sqrt(metrics.mean_squared_error(y_test, lr.predict(X_test))), 2))\n",
    "print('R2 score train:', np.round(r2_score(y_train, lr.predict(X_train), multioutput='variance_weighted'), 2))\n",
    "print('R2 score test:', np.round(r2_score(y_test, lr.predict(X_test), multioutput='variance_weighted'), 2))"
   ]
  },
  {
   "cell_type": "code",
   "execution_count": 47,
   "id": "9d3dee2a",
   "metadata": {
    "execution": {
     "iopub.execute_input": "2023-08-15T14:49:47.526976Z",
     "iopub.status.busy": "2023-08-15T14:49:47.526568Z",
     "iopub.status.idle": "2023-08-15T14:49:47.532708Z",
     "shell.execute_reply": "2023-08-15T14:49:47.531462Z"
    },
    "papermill": {
     "duration": 0.062605,
     "end_time": "2023-08-15T14:49:47.535859",
     "exception": false,
     "start_time": "2023-08-15T14:49:47.473254",
     "status": "completed"
    },
    "tags": []
   },
   "outputs": [
    {
     "name": "stdout",
     "output_type": "stream",
     "text": [
      "-130677228832.26793\n"
     ]
    }
   ],
   "source": [
    "print(lr.intercept_)"
   ]
  },
  {
   "cell_type": "markdown",
   "id": "1931a355",
   "metadata": {
    "papermill": {
     "duration": 0.036346,
     "end_time": "2023-08-15T14:49:47.609371",
     "exception": false,
     "start_time": "2023-08-15T14:49:47.573025",
     "status": "completed"
    },
    "tags": []
   },
   "source": [
    "<h3> K-fold Cross validation"
   ]
  },
  {
   "cell_type": "code",
   "execution_count": 48,
   "id": "effc2a67",
   "metadata": {
    "execution": {
     "iopub.execute_input": "2023-08-15T14:49:47.685410Z",
     "iopub.status.busy": "2023-08-15T14:49:47.684998Z",
     "iopub.status.idle": "2023-08-15T14:49:52.021538Z",
     "shell.execute_reply": "2023-08-15T14:49:52.020275Z"
    },
    "papermill": {
     "duration": 4.378802,
     "end_time": "2023-08-15T14:49:52.025785",
     "exception": false,
     "start_time": "2023-08-15T14:49:47.646983",
     "status": "completed"
    },
    "tags": []
   },
   "outputs": [
    {
     "data": {
      "text/plain": [
       "array([0.9454809 , 0.94461215, 0.94642429, 0.94465378, 0.94977764])"
      ]
     },
     "execution_count": 48,
     "metadata": {},
     "output_type": "execute_result"
    }
   ],
   "source": [
    "cv = ShuffleSplit(n_splits=5, test_size=0.2, random_state=0)\n",
    "\n",
    "cross_val_score(LinearRegression(), X, y, cv=cv)"
   ]
  },
  {
   "cell_type": "markdown",
   "id": "16995eee",
   "metadata": {
    "papermill": {
     "duration": 0.036264,
     "end_time": "2023-08-15T14:49:52.165797",
     "exception": false,
     "start_time": "2023-08-15T14:49:52.129533",
     "status": "completed"
    },
    "tags": []
   },
   "source": [
    "<h3>Exporting the model to a pickel file"
   ]
  },
  {
   "cell_type": "code",
   "execution_count": 49,
   "id": "c9ada600",
   "metadata": {
    "execution": {
     "iopub.execute_input": "2023-08-15T14:49:52.241352Z",
     "iopub.status.busy": "2023-08-15T14:49:52.240036Z",
     "iopub.status.idle": "2023-08-15T14:49:52.246617Z",
     "shell.execute_reply": "2023-08-15T14:49:52.245632Z"
    },
    "papermill": {
     "duration": 0.046783,
     "end_time": "2023-08-15T14:49:52.249118",
     "exception": false,
     "start_time": "2023-08-15T14:49:52.202335",
     "status": "completed"
    },
    "tags": []
   },
   "outputs": [],
   "source": [
    "import pickle\n",
    "with open('mumbai_houses_price_prediction.pickle','wb') as f:\n",
    "    pickle.dump(lr,f)"
   ]
  },
  {
   "cell_type": "markdown",
   "id": "8de7340e",
   "metadata": {
    "papermill": {
     "duration": 0.03929,
     "end_time": "2023-08-15T14:49:52.324696",
     "exception": false,
     "start_time": "2023-08-15T14:49:52.285406",
     "status": "completed"
    },
    "tags": []
   },
   "source": [
    "Exporting column information that might be useful in future predictions"
   ]
  },
  {
   "cell_type": "code",
   "execution_count": 50,
   "id": "21f6a2d7",
   "metadata": {
    "execution": {
     "iopub.execute_input": "2023-08-15T14:49:52.403093Z",
     "iopub.status.busy": "2023-08-15T14:49:52.402200Z",
     "iopub.status.idle": "2023-08-15T14:49:52.409348Z",
     "shell.execute_reply": "2023-08-15T14:49:52.408303Z"
    },
    "papermill": {
     "duration": 0.049697,
     "end_time": "2023-08-15T14:49:52.412106",
     "exception": false,
     "start_time": "2023-08-15T14:49:52.362409",
     "status": "completed"
    },
    "tags": []
   },
   "outputs": [],
   "source": [
    "import json\n",
    "columns = {\n",
    "    'data_columns' : [col.lower() for col in X.columns]\n",
    "}\n",
    "with open(\"columns.json\",\"w\") as f:\n",
    "    f.write(json.dumps(columns))"
   ]
  },
  {
   "cell_type": "code",
   "execution_count": null,
   "id": "a56ff121",
   "metadata": {
    "papermill": {
     "duration": 0.036718,
     "end_time": "2023-08-15T14:49:52.486812",
     "exception": false,
     "start_time": "2023-08-15T14:49:52.450094",
     "status": "completed"
    },
    "tags": []
   },
   "outputs": [],
   "source": []
  }
 ],
 "metadata": {
  "kernelspec": {
   "display_name": "Python 3",
   "language": "python",
   "name": "python3"
  },
  "language_info": {
   "codemirror_mode": {
    "name": "ipython",
    "version": 3
   },
   "file_extension": ".py",
   "mimetype": "text/x-python",
   "name": "python",
   "nbconvert_exporter": "python",
   "pygments_lexer": "ipython3",
   "version": "3.10.12"
  },
  "papermill": {
   "default_parameters": {},
   "duration": 37.558673,
   "end_time": "2023-08-15T14:49:53.748714",
   "environment_variables": {},
   "exception": null,
   "input_path": "__notebook__.ipynb",
   "output_path": "__notebook__.ipynb",
   "parameters": {},
   "start_time": "2023-08-15T14:49:16.190041",
   "version": "2.4.0"
  }
 },
 "nbformat": 4,
 "nbformat_minor": 5
}
